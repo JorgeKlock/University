{
 "cells": [
  {
   "cell_type": "markdown",
   "metadata": {},
   "source": [
    "# Teoría de la Información y la Codificación\n",
    "## Tarea: Códigos EAN-13\n",
    "\n",
    "\n",
    "# Autor: \n",
    "\n",
    "Rellene la siguiente información:\n",
    "\n",
    " - Estudiante (nombre y apellidos): \n",
    " - DNI/NIE/Pasaporte: \n",
    " - Grupo: \n",
    " - Curso académico: \n",
    "\n",
    "\n",
    "\n",
    "__Yo, como estudiante de la asignatura, aseguro que la elaboración de estos ejercicios ha sido realizada de forma individual, sin incurrir en copias parciales o totales de código fuente o documentación, y acepto las repercusiones que conllevaría si esto no fuese así.__\n"
   ]
  },
  {
   "cell_type": "markdown",
   "metadata": {},
   "source": [
    "# Respuestas a las cuestiones teóricas:\n",
    "\n",
    "\n",
    "Escribir aquí las respuestas a las cuestiones teóricas. De ser necesario incluir material adicional (imágenes, tablas), hágalo conforme al tutorial de Jupyter Notebook facilitado en la primera semana del curso.\n"
   ]
  },
  {
   "cell_type": "code",
   "execution_count": 1,
   "metadata": {},
   "outputs": [],
   "source": [
    "\n",
    "#imports\n",
    "\n",
    "import numpy as np\n",
    "import matplotlib.pyplot as plt\n"
   ]
  },
  {
   "cell_type": "code",
   "execution_count": 2,
   "metadata": {},
   "outputs": [],
   "source": [
    "\n",
    "# Secuencia de dígitos a codificar\n",
    "digitos= \"480000107107\""
   ]
  },
  {
   "cell_type": "code",
   "execution_count": 3,
   "metadata": {},
   "outputs": [],
   "source": [
    "\n",
    "zonaSilenciosa= 9 # Tamaño de la zona silenciosa en Unidades\n",
    "totalUnidades= 95+2*zonaSilenciosa # Se deben reservar totalUnidades unidades para imprimir el código de barras\n",
    "grosor= 2 # Ancho (en píxeles) de cada unidad"
   ]
  },
  {
   "cell_type": "code",
   "execution_count": 4,
   "metadata": {},
   "outputs": [],
   "source": [
    "# Salida: código de barras (unidades) y dígito de control\n",
    "def CalcularCodigoBarras(secuenciaDigitos):\n",
    "\n",
    "    # Código de barras\n",
    "    # Array de totalUnidades. 0= negro; 1= blanco\n",
    "    codigo= np.ones( totalUnidades , dtype= np.uint8)\n",
    "\n",
    "    # Descomentar y rellenar\n",
    "    \"\"\"\n",
    "    B= np.uint8(\n",
    "        [\n",
    "            [1, 1, 1, 0, 0, 1, 0] # 0    \n",
    "            [], # 1\n",
    "            [], # 2\n",
    "            [], # 3\n",
    "            [], # 4\n",
    "            [], # 5\n",
    "            [], # 6\n",
    "            [], # 7\n",
    "            [], # 8\n",
    "            [] # 9\n",
    "        ]\n",
    "    )\n",
    "\n",
    "    codificaciones= np.uint8( # 0= B; 1= G\n",
    "        [\n",
    "            [0, 0, 0, 0, 0, 0], # Dígito de control 0\n",
    "            [0, 0, 1, 0, 1, 1], # Dígito de control 1\n",
    "            [], # dígito de control 2\n",
    "            [], # dígito de control 3\n",
    "            [], # dígito de control 4\n",
    "            [], # dígito de control 5\n",
    "            [], # dígito de control 6\n",
    "            [], # dígito de control 7\n",
    "            [], # dígito de control 8\n",
    "            [] # dígito de control 9\n",
    "        ]\n",
    "    )\n",
    "    \"\"\"\n",
    "    \n",
    "    # Paso 1. Calcular dígito de control\n",
    "    # Paso 2. Escribir las unidades de las guías (S, E, M)\n",
    "    # Paso 3. Rellenar las unidades de LLLLLL\n",
    "    # Paso 4. Rellenar las unidades de RRRRRR\n",
    "    # Devolvería el código y el dígito de control\n",
    "    "
   ]
  },
  {
   "cell_type": "code",
   "execution_count": 5,
   "metadata": {},
   "outputs": [],
   "source": [
    "\n",
    "# Imagen de salida\n",
    "anchoIm= totalUnidades*grosor\n",
    "altoIm= 100\n",
    "imagenSalida= np.ones( (altoIm, anchoIm) , dtype=np.uint8)*255\n",
    "\n",
    "\n",
    "# Calcular el resultado\n",
    "resultado= CalcularCodigoBarras(digitos)\n",
    "uds= None\n",
    "DigitoControl= None\n",
    "\n",
    "\n",
    "# Pintar código de barras\n",
    "# Para pintar un rectángulo de la coordenada (x,y) (10, 9) a la (13,11): \n",
    "# imagenSalida[9:12, 10:14]= 0\n"
   ]
  },
  {
   "cell_type": "code",
   "execution_count": 6,
   "metadata": {},
   "outputs": [
    {
     "data": {
      "image/png": "[encoded data removed]",
      "text/plain": [
       "<Figure size 432x288 with 1 Axes>"
      ]
     },
     "metadata": {
      "needs_background": "light"
     },
     "output_type": "display_data"
    }
   ],
   "source": [
    "\n",
    "imgplot= plt.imshow(imagenSalida, cmap='gray')\n",
    "imgplot.axes.get_xaxis().set_visible(False)\n",
    "imgplot.axes.get_yaxis().set_visible(False)\n",
    "\n",
    "# Para pintar texto en alguna coordenada, con un tamaño de fuente especificado\n",
    "# plt.text(30, altoIm-10, digitos[0:6], fontsize=24)\n",
    "# plt.text(100, altoIm-10, digitos[6:12], fontsize=24)"
   ]
  }
 ],
 "metadata": {
  "kernelspec": {
   "display_name": "Python 3",
   "language": "python",
   "name": "python3"
  },
  "language_info": {
   "codemirror_mode": {
    "name": "ipython",
    "version": 3
   },
   "file_extension": ".py",
   "mimetype": "text/x-python",
   "name": "python",
   "nbconvert_exporter": "python",
   "pygments_lexer": "ipython3",
   "version": "3.8.2"
  }
 },
 "nbformat": 4,
 "nbformat_minor": 4
}
