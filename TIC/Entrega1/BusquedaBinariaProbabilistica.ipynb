{
 "cells": [
  {
   "cell_type": "markdown",
   "metadata": {},
   "source": [
    "# Teoría de la Información y la Codificación\n",
    "## Tarea: Búsqueda Binaria Probabilística\n",
    "\n",
    "\n",
    "# Autor: \n",
    "\n",
    "Rellene la siguiente información:\n",
    "\n",
    " - Estudiante (nombre y apellidos): Jorge Gangoso Klöck\n",
    " - DNI/NIE/Pasaporte: 49398653N\n",
    " - Grupo: 1\n",
    " - Curso académico: 2021-2022\n",
    "\n",
    "\n",
    "\n",
    "__Yo, como estudiante de la asignatura, aseguro que la elaboración de estos ejercicios ha sido realizada de forma individual, sin incurrir en copias parciales o totales de código fuente o documentación, y acepto las repercusiones que conllevaría si esto no fuese así.__\n"
   ]
  },
  {
   "cell_type": "markdown",
   "metadata": {},
   "source": [
    "# Respuestas a las cuestiones teóricas:\n",
    "\n",
    "### Noción intuitiva de Entropía \n",
    "\n",
    "El concepto intuitivo de Entropía nos presenta la idea de que para conocer la cantidad media de preguntas que necesitaríamos para descifrar cualquier mensaje enviado a nosotros sólo debemos crear un árbol en el que vayamos dividiendo las ramas de forma que la probabilidad acumulada de cada rama sea equiprobable, y, una vez terminado, observar la cantidad de ramificaciones que necesitamos para llegar a un determinado mensaje. \n",
    "Si llamamos a ese número de preguntas para descifrar el mensaje i-ésimo $n_{i}$, la cantidad de mensajes promedio no será más que la suma de estas preguntas ponderadas con la probabilidad de recibir cada mensaje ($P(S_{i})$) . Este concepto al que llamamos esperanza de información se formaliza de la siguiente manera:\n",
    "\n",
    "$\\sum_{i=1}^{n}P(S_{i})*n_{i}$\n",
    "    \n",
    "\n",
    "\n",
    "En la definición formal de Entropía utilizamos el logaritmo (con signo invertido) de la probabilidad de un mensaje. Esta operación nos permitirá saber cuántas preguntas necesitaríamos como mínimo para descifrar dicho mensaje sin necesidad de construir un árbol de preguntas que incorpore todos los posibles mensajes.\n",
    "\n",
    "Podemos comprobar la veracidad de esta afirmación sencillamente como prosigue:\n",
    "1. $log_{2}(0.5) = 1$\n",
    "2. $log_{2}(0.25) = 2$\n",
    "3. $log_{2}(0.125) = 3$\n",
    "\n",
    " ![img_not_found](imagenes/arbol2.png \"Árbol de Preguntas\")\n",
    "\n",
    "Es facil ver que en un árbol construido mediante el concepto intuitivo de Entropía estudiado, los únicos mensajes que pueden descifrarse con 1 pregunta son aquellos con $P(x) >= 0.5$. En cada nivel el valor de n se corresponde con el valor del logaritmo calculado anteriormente. Es importante notar que hablamos de un valor medio, por ello los logaritmos pueden no resultar números enteros a pesar de que el número de preguntas a realizar sí debe serlo.\n",
    "\n",
    "### La entropía y la búsqueda binaria\n",
    "\n",
    "Como acabamos de observar, el proceso para minimizar el número de preguntas a realizar conllevaba la realización de un árbol separado por ramas equiprobables. Por tanto, siguiendo el mismo razonamiento, para minimizar el número de iteraciones a realizar hasta encontrar un elemento (podemos ver la directa relación entre hacer una pregunta y realizar una iteración) deberemos separar la lista de elementos de forma equiprobable también.\n",
    "\n",
    "En la búsqueda binaria original, puesto que no conocemos las probabilidades de que el elemento a encontrar se encuentre en una u otra posición, lo más razonable es asumir que todas las posiciones son equiprobables para nuestro objetivo, y por ello se procede separando el vector en subvectores de igual longitud.\n",
    "\n",
    "### Búsqueda binaria probabilística\n",
    "\n",
    "En contraste con el caso inicial en que no conocemos la probabilidad de que lo que buscamos se encuentre en cada posición, si conocemos esas probabilidades entramos en conflicto con la entropía. Separar los vectores en subvectores de igual longitud ya no nos garantiza realizar el número mínimo de preguntas promedio.\n",
    "Sin embargo, hay una forma sencilla de recuperar esa optimalidad. En lugar de separar los vectores en subvectores de igual longitud los separaremos en subvectores de igual (o lo más próximo posible) probabilidad. De esta manera el concepto de Entropía nos garantiza que seguiremos haciendo la cantidad mínima de preguntas en promedio, es decir, de iteraciones en la búsqueda.\n",
    "\n",
    "Para realizar dicho algoritmo sólo necesitaremos una función que nos calcule el punto medio en el que debemos dividir un vector para obtener dos vectores lo más equiprobables posibles. El resto del algoritmo funciona siguiendo el mismo procedimiento.\n",
    "\n",
    "### Resultados\n",
    "\n",
    "Se han llevado a cabo experimentos con variaciones en los siguientes parámetros:\n",
    "\n",
    "    1. Tamaño del vector: Se ha observado tamaño del vector afecta proporcionalmente a la diferencia de iteraciones medias entre los algoritmos. No obstante, debido al factor aleatorio de la posición del elemento, en vectores muy grandes, la penalización que recibe el algoritmo probabilístico es mucha más cuando el elemento se encuentra en una posición poco probable.\n",
    "    \n",
    "    2. Sesgo: El sesgo determina lo uniforme que se encuentra la distribución de probabilidad. Se ha verificado experimentalmente la hipótesis que afirma que cuanto más sesgada se encuentra la distribución, mayor información se transmite, menos incertidumbre hay, y, en consecuencia, menor cantidad de preguntas promedio (Entropía) necesitaremos.\n",
    "    Si las probabilidades son equiprobables ambos algoritmos funcionan de exactamente la misma manera.\n",
    "    \n",
    "| Sesgo | BB mean | BBPmean | BB min/max | BBP min/max \n",
    "| --- | --- | --- | --- | --- |\n",
    "| No | 6.0892 | 6.0892 | 1/8 | 1/8 |\n",
    "| Lineal | 6.0676 | 5.8402 | 1/8 | 1/12 |\n",
    "| Cuadrático | 6.1346 | 5.4929 | 1/8 | 1/13 |\n",
    "| Cúbico | 6.1301 | 5.2219 | 1/8 | 1/18 |\n",
    "| Acentuado | 6.4015 | 2.8925 | 4/8 | 1/4 |\n",
    "\n",
    "\n",
    "Observamos también como las iteraciones promedio de la búsqueda binaria  clásica aumenta. Esto en realidad es símplemente un efecto colateral de la forma en que se han sesgado las probabilidades, acercando cada vez más el algoritmo BB a su peor caso (que el elemento se encuentre en una de las esquinas), si el sesgo fuera centrado en la mitad del vector las iteraciones medias bajarían.\n",
    "    \n",
    "Si nos paramos a observar los mínimos y máximos vemos como el mínimo siempre es al menos 1 ya que al menos se debe hacer la primera comprobación para ver si el número que buscamos está justo en el centro (En el caso acentuado la probabilidad de un elemento de estar en cualquier cuadrante a menos de 4 comprobaciones es de 0).\n",
    "    \n",
    "Por tanto nos interesaremos en los máximos. Vemos como el máximo de iteraciones a realizar tiende a estar a favor de la Búsqueda Binaria clásica. La explicación es la siguiente: En un vector de $n$ elementos necesitaremos dividir mediante un árbol binario $log_{2}(n)+1$ iteraciones (Si no contamos el primer paso como iteración serían $log_{2}(n)$). Esto se demuestra tan sencillo como que para decodificar cualquier número entre 0 y n necesitamos pasar por $2^{n-1}$ ramas de un árbol binario.\n",
    "    \n",
    "Sin embargo, La versión probabilística carece de esta cota al no dividir el vector siempre en partes de igual cantidad de elementos. De esta manera, es razonable que si el elemento a buscar se encuentra en una posición de baja probabilidad, el algoritmo probabilístico tarde más iteraciones en encontrarlo. No obstante, podemos comprobar por los histogramas incluídos al final del documento que si bien la cantidad de iteraciones puede tomar valores mayores a $log_{2}(n)+1$, la densidad se concentra alrededor de cantidades menores, que es lo que provoca una cantidad media de iteraciones menor. Es el mismo caso que cuando se plantea utilizar codificaciones que asignen mayor cantidad de bits a mensajes menos probables superando la cota binaria.\n",
    "    \n",
    "\n",
    "\n",
    "\n",
    "\n"
   ]
  },
  {
   "cell_type": "code",
   "execution_count": 822,
   "metadata": {},
   "outputs": [],
   "source": [
    "#imports\n",
    "import numpy as np\n",
    "import matplotlib.pyplot as plt\n"
   ]
  },
  {
   "cell_type": "code",
   "execution_count": 823,
   "metadata": {},
   "outputs": [],
   "source": [
    "\n",
    "# El tamaño del vector donde se buscará\n",
    "N= 128\n",
    "\n",
    "# El elemento a buscar\n",
    "x= 100\n",
    "\n",
    "# Número de ejecuciones (experimentos) a realizar. Establezca un número alto (>1000).\n",
    "NumEjecuciones= 10000 # Ejemplo de número de experimentos\n",
    "\n",
    "#Tipo de sesgo para comparar los algoritmos. Recomendado: Cúbico/Acentuado\n",
    "sesgo = \"cubico\"\n"
   ]
  },
  {
   "cell_type": "code",
   "execution_count": 824,
   "metadata": {},
   "outputs": [],
   "source": [
    "\n",
    "# Función auxiliar para generar un array numérico de tamaño N con un elemento x en una de sus\n",
    "# componentes. La componente donde se asignará x estará dada por el vector de probabilidades\n",
    "# de entrada P, también de tamaño N. P[i] indica la probabilidad de que x se asigne\n",
    "# al vector devuelto, V, en la componente V[i]\n",
    "# Se asegura que el vector devuelto está ordenado de menor a mayor.\n",
    "def VectorComponenteAleatoria(x, P):\n",
    "    V= np.zeros(len(P))\n",
    "    componente= np.random.choice(len(P), p=P)\n",
    "    V[componente]= x\n",
    "    if (componente>0):\n",
    "        for i in range(componente):\n",
    "            V[i]= i-x\n",
    "    if (componente<len(P)):\n",
    "        for i in range(componente+1, len(P)):\n",
    "            V[i]= x+i\n",
    "    return V\n",
    "\n"
   ]
  },
  {
   "cell_type": "code",
   "execution_count": 825,
   "metadata": {},
   "outputs": [],
   "source": [
    "\n",
    "# Definición de función que implementa el algoritmo de búsqueda binaria clásico ITERATIVO\n",
    "# Debe tener como entrada:\n",
    "#  - Un vector v de tamaño N donde se buscará un elemento.\n",
    "#  - El elemento x a buscar en v\n",
    "# Debe devolver:\n",
    "#  - El índice donde se encontró el elemento a buscar x (-1 en caso de no encontrarse)\n",
    "#  - El número de iteraciones del bucle principal realizado antes de salir de la función\n",
    "def BBclasica(v, x):\n",
    "    ini = 0\n",
    "    fin = v.size-1\n",
    "    iteraciones = 0\n",
    "    while (ini <= fin):\n",
    "        iteraciones += 1\n",
    "        centro = int((ini+fin)/2)\n",
    "        if (v[centro] == x):\n",
    "            return centro, iteraciones\n",
    "        if (v[centro] > x):\n",
    "            fin = centro-1\n",
    "        else:\n",
    "            ini = centro+1\n",
    "    return -1, iteraciones"
   ]
  },
  {
   "cell_type": "code",
   "execution_count": 826,
   "metadata": {},
   "outputs": [],
   "source": [
    "\n",
    "# Definición de función que implementa el algoritmo de búsqueda binaria probabilístico ITERATIVO\n",
    "# Debe tener como entrada:\n",
    "#  - Un vector v de tamaño N donde se buscará un elemento.\n",
    "#  - El elemento x a buscar en v\n",
    "#  - Un vector P de tamaño N con las probabilidades P[i] de que el elemento x se encuentre en v[i]\n",
    "# Debe devolver:\n",
    "#  - El índice donde se encontró el elemento a buscar x (-1 en caso de no encontrarse)\n",
    "#  - El número de iteraciones del bucle principal realizado antes de salir de la función\n",
    "\n",
    "def calculaCentroP (P):\n",
    "    p_acumulada = 0\n",
    "    contador = 0\n",
    "    p_media = sum(P)/2\n",
    "    while (p_acumulada < p_media):\n",
    "        p_acumulada += P[contador]\n",
    "        contador += 1\n",
    "    if(contador > 1):\n",
    "        return contador-1\n",
    "    return 0\n",
    "\n",
    "def BBP(v, x, P):\n",
    "    ini = 0\n",
    "    fin = v.size -1\n",
    "    iteraciones = 0\n",
    "    while (ini <= fin):\n",
    "        iteraciones += 1\n",
    "        centro = ini + calculaCentroP(P[ini:fin+1])\n",
    "        if (v[centro] == x):\n",
    "            return centro, iteraciones\n",
    "        if (v[centro] > x):\n",
    "            fin = centro-1\n",
    "        else:\n",
    "            ini = centro+1\n",
    "    return -1, iteraciones"
   ]
  },
  {
   "cell_type": "code",
   "execution_count": 827,
   "metadata": {},
   "outputs": [
    {
     "name": "stdout",
     "output_type": "stream",
     "text": [
      "Sesgo:  cubico\n",
      "Media BB:  6.1356\n",
      "Mín/Max:  1  /  8\n",
      "Media BBP:  5.2148\n",
      "Mín/Max:  1  /  15\n"
     ]
    }
   ],
   "source": [
    "\n",
    "\n",
    "# Iteraciones realizadas por la búsqueda binaria en cada ejecución. Inicialmente vacío\n",
    "IterBB= []\n",
    "\n",
    "# Iteraciones realizadas por la búsqueda binaria probabilística en cada ejecución. Inicialmente vacío\n",
    "IterBBP= []\n",
    "\n",
    "# Establezca un vector de probabilidades NO EQUIPROBABLES de tamaño N\n",
    "# P= ...\n",
    "\n",
    "p = np.arange(N)\n",
    "p = p.astype(float)\n",
    "\n",
    "\n",
    "if (sesgo == \"lineal\"):\n",
    "    p = p/sum(p)\n",
    "elif (sesgo == \"cuadratico\"):\n",
    "    p = p**2\n",
    "    p = p/sum(p)\n",
    "elif (sesgo == \"cubico\"):\n",
    "    p = p**3\n",
    "    p = p/sum(p)    \n",
    "elif (sesgo == \"acentuado\"):\n",
    "    p[0:N-10] = 0\n",
    "    p[N-10:N] = 0.1\n",
    "elif (sesgo == \"no\"):\n",
    "    p[::] = 1/p.size\n",
    "    \n",
    "\n",
    "# Ejecutar varias ejecuciones\n",
    "for i in range(NumEjecuciones):\n",
    "    # Generar un vector V de tamaño N con la función VectorComponenteAleatoria\n",
    "    v = VectorComponenteAleatoria(x, p)\n",
    "    \n",
    "    # Ejecutar búsqueda binaria clásica\n",
    "    posicion, iteraciones = BBclasica(v, x)\n",
    "    if(posicion < 0):\n",
    "        print(\"ERROR - número no encontrado\")\n",
    "    # Añadir el número de iteraciones resultante del algoritmo a la lista IterBB\n",
    "    IterBB.append(np.uint8(iteraciones))\n",
    "    # Ejecutar búsqueda binaria probabilística\n",
    "    posicion, iteraciones = BBP(v, x, p)\n",
    "    if(posicion < 0):\n",
    "        print(\"ERROR - número no encontrado\")\n",
    "    # Añadir el número de iteraciones resultante del algoritmo a la lista IterBBP\n",
    "    IterBBP.append(np.uint8(iteraciones))\n",
    "\n",
    "# Realizar el análisis requerido 1+\n",
    "print(\"Sesgo: \", sesgo)\n",
    "print(\"Media BB: \", np.mean(IterBB))\n",
    "print(\"Mín/Max: \", min(IterBB), \" / \", max(IterBB))\n",
    "print(\"Media BBP: \", np.mean(IterBBP))\n",
    "print(\"Mín/Max: \", min(IterBBP), \" / \", max(IterBBP))"
   ]
  },
  {
   "cell_type": "code",
   "execution_count": 828,
   "metadata": {},
   "outputs": [
    {
     "data": {
      "image/png": "[encoded data removed]",
      "text/plain": [
       "<Figure size 432x288 with 1 Axes>"
      ]
     },
     "metadata": {
      "needs_background": "light"
     },
     "output_type": "display_data"
    }
   ],
   "source": [
    "plt.plot(np.arange(N), p)\n",
    "plt.show()"
   ]
  },
  {
   "cell_type": "code",
   "execution_count": 829,
   "metadata": {},
   "outputs": [
    {
     "data": {
      "image/png": "[encoded data removed]",
      "text/plain": [
       "<Figure size 432x288 with 1 Axes>"
      ]
     },
     "metadata": {
      "needs_background": "light"
     },
     "output_type": "display_data"
    }
   ],
   "source": [
    "plt.hist(IterBB, bins=np.arange(1,np.maximum(max(IterBB),max(IterBBP)))+1)\n",
    "plt.show()"
   ]
  },
  {
   "cell_type": "code",
   "execution_count": 830,
   "metadata": {},
   "outputs": [
    {
     "data": {
      "image/png": "[encoded data removed]",
      "text/plain": [
       "<Figure size 432x288 with 1 Axes>"
      ]
     },
     "metadata": {
      "needs_background": "light"
     },
     "output_type": "display_data"
    }
   ],
   "source": [
    "plt.hist(IterBBP, bins=np.arange(1,np.maximum(max(IterBB),max(IterBBP)))+1)\n",
    "plt.show()"
   ]
  },
  {
   "cell_type": "code",
   "execution_count": null,
   "metadata": {},
   "outputs": [],
   "source": []
  }
 ],
 "metadata": {
  "kernelspec": {
   "display_name": "Python 3",
   "language": "python",
   "name": "python3"
  },
  "language_info": {
   "codemirror_mode": {
    "name": "ipython",
    "version": 3
   },
   "file_extension": ".py",
   "mimetype": "text/x-python",
   "name": "python",
   "nbconvert_exporter": "python",
   "pygments_lexer": "ipython3",
   "version": "3.8.5"
  }
 },
 "nbformat": 4,
 "nbformat_minor": 4
}
