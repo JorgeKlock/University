{
 "cells": [
  {
   "cell_type": "code",
   "execution_count": 195,
   "metadata": {},
   "outputs": [
    {
     "name": "stdout",
     "output_type": "stream",
     "text": [
      "0 0 8\n",
      "(0, 1)\n",
      "0 4 8\n",
      "0 1 3\n",
      "0 0 0\n",
      "(0, 3)\n"
     ]
    }
   ],
   "source": [
    "import numpy as np\n",
    "from decimal import Decimal\n",
    "def BBclasica(v, x):\n",
    "    ini = 0\n",
    "    fin = v.size-1\n",
    "    iteraciones = 0\n",
    "    while (ini <= fin):\n",
    "        iteraciones += 1\n",
    "        centro = int((ini+fin)/2)\n",
    "        print(ini, centro, fin)\n",
    "        if (v[centro] == x):\n",
    "            return centro, iteraciones\n",
    "        if (v[centro] > x):\n",
    "            fin = centro-1\n",
    "        else:\n",
    "            ini = centro+1\n",
    "    return -1, iteraciones\n",
    "#version eficiente (puede causar error)\n",
    "#\n",
    "\n",
    "# def calculaCentroP (P):\n",
    "#     p_acumulada = 0\n",
    "#     contador = 0\n",
    "#     p_media = sum(P)/2\n",
    "#     while (p_acumulada < p_media):\n",
    "#         p_acumulada += P[contador]\n",
    "#         contador += 1\n",
    "#     if(contador > 1):\n",
    "#         return contador-1\n",
    "#     return 0\n",
    "\n",
    "#Version sin error\n",
    "def calculaCentroP (P):\n",
    "    p_acumulada = 0\n",
    "    contador = 0\n",
    "    p_restante = sum(P)\n",
    "    while (p_acumulada < p_restante):\n",
    "        p_acumulada += P[contador]\n",
    "        contador += 1\n",
    "        p_restante = sum(P[contador:])\n",
    "    if(contador > 0):\n",
    "        return contador-1\n",
    "    return 0\n",
    "\n",
    "\n",
    "def BBP(v, x, P):\n",
    "    ini = 0\n",
    "    fin = v.size-1\n",
    "    iteraciones = 0\n",
    "    centro = int(v.size/2)\n",
    "    while (ini <= fin):\n",
    "        iteraciones += 1\n",
    "        centro = ini + calculaCentroP(P[ini:fin+1])\n",
    "        print(ini, centro, fin)\n",
    "        if (v[centro] == x):\n",
    "            return centro, iteraciones\n",
    "        if (v[centro] > x):\n",
    "            fin = centro-1\n",
    "        else:\n",
    "            ini = centro+1\n",
    "    return -1, iteraciones\n",
    "\n",
    "v = [10,30,40,50,60,70,80,90,100]\n",
    "v = np.array(v)\n",
    "P = []\n",
    "\n",
    "\n",
    "retorno = BBP(v, 10, P)\n",
    "print(retorno)\n",
    "retorno = BBclasica (v, 10)\n",
    "print(retorno)\n"
   ]
  },
  {
   "cell_type": "code",
   "execution_count": null,
   "metadata": {},
   "outputs": [],
   "source": []
  },
  {
   "cell_type": "code",
   "execution_count": 196,
   "metadata": {},
   "outputs": [
    {
     "name": "stdout",
     "output_type": "stream",
     "text": [
      "<class 'float'>\n",
      "[0.0000e+00 7.8125e-03 2.0000e+00 3.0000e+00 4.0000e+00 5.0000e+00\n",
      " 6.0000e+00 7.0000e+00 8.0000e+00 9.0000e+00 1.0000e+01 1.1000e+01\n",
      " 1.2000e+01 1.3000e+01 1.4000e+01 1.5000e+01 1.6000e+01 1.7000e+01\n",
      " 1.8000e+01 1.9000e+01 2.0000e+01 2.1000e+01 2.2000e+01 2.3000e+01\n",
      " 2.4000e+01 2.5000e+01 2.6000e+01 2.7000e+01 2.8000e+01 2.9000e+01\n",
      " 3.0000e+01 3.1000e+01 3.2000e+01 3.3000e+01 3.4000e+01 3.5000e+01\n",
      " 3.6000e+01 3.7000e+01 3.8000e+01 3.9000e+01 4.0000e+01 4.1000e+01\n",
      " 4.2000e+01 4.3000e+01 4.4000e+01 4.5000e+01 4.6000e+01 4.7000e+01\n",
      " 4.8000e+01 4.9000e+01 5.0000e+01 5.1000e+01 5.2000e+01 5.3000e+01\n",
      " 5.4000e+01 5.5000e+01 5.6000e+01 5.7000e+01 5.8000e+01 5.9000e+01\n",
      " 6.0000e+01 6.1000e+01 6.2000e+01 6.3000e+01 6.4000e+01 6.5000e+01\n",
      " 6.6000e+01 6.7000e+01 6.8000e+01 6.9000e+01 7.0000e+01 7.1000e+01\n",
      " 7.2000e+01 7.3000e+01 7.4000e+01 7.5000e+01 7.6000e+01 7.7000e+01\n",
      " 7.8000e+01 7.9000e+01 8.0000e+01 8.1000e+01 8.2000e+01 8.3000e+01\n",
      " 8.4000e+01 8.5000e+01 8.6000e+01 8.7000e+01 8.8000e+01 8.9000e+01\n",
      " 9.0000e+01 9.1000e+01 9.2000e+01 9.3000e+01 9.4000e+01 9.5000e+01\n",
      " 9.6000e+01 9.7000e+01 9.8000e+01 9.9000e+01 1.0000e+02 1.0100e+02\n",
      " 1.0200e+02 1.0300e+02 1.0400e+02 1.0500e+02 1.0600e+02 1.0700e+02\n",
      " 1.0800e+02 1.0900e+02 1.1000e+02 1.1100e+02 1.1200e+02 1.1300e+02\n",
      " 1.1400e+02 1.1500e+02 1.1600e+02 1.1700e+02 1.1800e+02 1.1900e+02\n",
      " 1.2000e+02 1.2100e+02 1.2200e+02 1.2300e+02 1.2400e+02 1.2500e+02\n",
      " 1.2600e+02 1.2700e+02]\n"
     ]
    }
   ],
   "source": [
    "\n",
    "p = np.arange(128)\n",
    "p = p.astype(float)\n",
    "a = 1/p.size\n",
    "print(type(a))\n",
    "p[1] = a\n",
    "print(p)"
   ]
  },
  {
   "cell_type": "code",
   "execution_count": 202,
   "metadata": {},
   "outputs": [
    {
     "name": "stdout",
     "output_type": "stream",
     "text": [
      "[0.00925926 0.00925926 0.00925926 0.00925926 0.00925926 0.00925926\n",
      " 0.00925926 0.00925926 0.00925926 0.00925926 0.00925926 0.00925926\n",
      " 0.00925926 0.00925926 0.00925926 0.00925926 0.00925926 0.00925926\n",
      " 0.00925926 0.00925926 0.00925926 0.00925926 0.00925926 0.00925926\n",
      " 0.00925926 0.00925926 0.00925926 0.00925926 0.00925926 0.00925926\n",
      " 0.00925926 0.00925926 0.00925926 0.00925926 0.00925926 0.00925926\n",
      " 0.00925926 0.00925926 0.00925926 0.00925926 0.00925926 0.00925926\n",
      " 0.00925926 0.00925926 0.00925926 0.00925926 0.00925926 0.00925926\n",
      " 0.00925926 0.00925926 0.00925926 0.00925926 0.00925926 0.00925926\n",
      " 0.00925926 0.00925926 0.00925926 0.00925926 0.00925926 0.00925926\n",
      " 0.00925926 0.00925926 0.00925926 0.00925926 0.00925926 0.00925926\n",
      " 0.00925926 0.00925926 0.00925926 0.00925926 0.00925926 0.00925926\n",
      " 0.00925926 0.00925926 0.00925926 0.00925926 0.00925926 0.00925926\n",
      " 0.00925926 0.00925926 0.00925926 0.00925926 0.00925926 0.00925926\n",
      " 0.00925926 0.00925926 0.00925926 0.00925926 0.00925926 0.00925926\n",
      " 0.00925926 0.00925926 0.00925926 0.00925926 0.00925926 0.00925926\n",
      " 0.00925926 0.00925926 0.00925926 0.00925926 0.00925926 0.00925926\n",
      " 0.00925926 0.00925926 0.00925926 0.00925926 0.00925926 0.00925926]\n",
      "0 53 107\n",
      "0 26 52\n",
      "0 12 25\n",
      "0 5 11\n",
      "6 8 11\n",
      "9 10 11\n",
      "(10, 6)\n",
      "0 53 107\n",
      "0 26 52\n",
      "0 12 25\n",
      "0 5 11\n",
      "6 8 11\n",
      "9 10 11\n",
      "(10, 6)\n"
     ]
    }
   ],
   "source": [
    "N = 108\n",
    "v = np.arange(N)\n",
    "x = 10\n",
    "P= np.full(N, 1/N)\n",
    "print(P)\n",
    "\n",
    "\n",
    "print(BBP(v,x,P))\n",
    "print(BBclasica(v,x))"
   ]
  },
  {
   "cell_type": "code",
   "execution_count": 198,
   "metadata": {},
   "outputs": [
    {
     "data": {
      "text/plain": [
       "3"
      ]
     },
     "execution_count": 198,
     "metadata": {},
     "output_type": "execute_result"
    }
   ],
   "source": [
    "int((3+4)/2)"
   ]
  },
  {
   "cell_type": "code",
   "execution_count": 226,
   "metadata": {},
   "outputs": [
    {
     "data": {
      "image/png": "[encoded data removed]",
      "text/plain": [
       "<Figure size 432x288 with 1 Axes>"
      ]
     },
     "metadata": {
      "needs_background": "light"
     },
     "output_type": "display_data"
    }
   ],
   "source": [
    "import matplotlib.pyplot as plt\n",
    "#count, bins, ignored = plt.hist(p)\n",
    "a = np.uint8([1,1,2,2,2,2,2,2])\n",
    "count = plt.hist(a, bins=[1,2,3])\n",
    "plt.show()\n"
   ]
  },
  {
   "cell_type": "code",
   "execution_count": null,
   "metadata": {},
   "outputs": [],
   "source": []
  },
  {
   "cell_type": "code",
   "execution_count": null,
   "metadata": {},
   "outputs": [],
   "source": []
  },
  {
   "cell_type": "code",
   "execution_count": null,
   "metadata": {},
   "outputs": [],
   "source": []
  }
 ],
 "metadata": {
  "kernelspec": {
   "display_name": "Python 3",
   "language": "python",
   "name": "python3"
  },
  "language_info": {
   "codemirror_mode": {
    "name": "ipython",
    "version": 3
   },
   "file_extension": ".py",
   "mimetype": "text/x-python",
   "name": "python",
   "nbconvert_exporter": "python",
   "pygments_lexer": "ipython3",
   "version": "3.8.5"
  }
 },
 "nbformat": 4,
 "nbformat_minor": 4
}
