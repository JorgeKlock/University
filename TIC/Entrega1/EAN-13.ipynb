{
 "cells": [
  {
   "cell_type": "markdown",
   "metadata": {},
   "source": [
    "# Teoría de la Información y la Codificación\n",
    "## Tarea: Códigos EAN-13\n",
    "\n",
    "\n",
    "# Autor: \n",
    "\n",
    "Rellene la siguiente información:\n",
    "\n",
    " - Estudiante (nombre y apellidos): Jorge Gangoso Klöck\n",
    " - DNI/NIE/Pasaporte: 49398653N\n",
    " - Grupo: 1\n",
    " - Curso académico: 2021-2022\n",
    "\n",
    "\n",
    "\n",
    "__Yo, como estudiante de la asignatura, aseguro que la elaboración de estos ejercicios ha sido realizada de forma individual, sin incurrir en copias parciales o totales de código fuente o documentación, y acepto las repercusiones que conllevaría si esto no fuese así.__\n"
   ]
  },
  {
   "cell_type": "markdown",
   "metadata": {},
   "source": [
    "# Respuestas a las cuestiones teóricas:\n",
    "## Esquema de Transmisión\n",
    "Fuente: Generador de números de serie.\n",
    "> -Alfabeto de la fuente: {0,1,2,3,4,5,6,7,8,9}\n",
    "\n",
    "> -Palabras de la fuente: Todas las combinaciones de 12 elementos del alfabeto posibles ($10^{12}$)\n",
    "\n",
    "> -Codigo: Representación mediante una serie de bandas blancas y negras de los 12 números más un dígito de control \n",
    "    \n",
    "Canal: Diseño impreso sobre una superficie física\n",
    "> -Discreto: El código de barras se imprime en un instante y no es dependiente del tiempo.\n",
    "\n",
    "> -Sin memoria: La superficie inscrita con el código de barras carece de memoria.\n",
    "\n",
    "> -Con ruido: Es posible que en el proceso entre la impresión y la lectura se produzcan errores, es por eso que se añaden los sistemas de comprobación de errores y la causa de que en algunos casos la lectura no se realice o se realice incorrectamente.\n",
    "    \n",
    "Destino: Lector de códigos de barras\n",
    "\n",
    "## Función de Codificación\n",
    "La función de codificación consta de varios pasos:\n",
    "1. Calculo del dígito de control: \n",
    "\n",
    "Se calcula como la suma de los dígitos impares multiplicada por 3 más los dígitos pares en módulo 10, resultado al cual se le hace el inverso respecto a 10 (10-a) excepto si es 10 que vale 0. Esta operación se puede realizar matemáticamente como [10-a mod 10]\n",
    "\n",
    "2. Secuencia de B/G para los dígitos izquierdos:\n",
    "\n",
    "Se genera una secuencia de representaciones que pueden ser de la codificación B o G para cada dígito izquierdo (los 6 primeros digitos del valor a codificar) en función del Dígito de Control. Una vez establecida la secuencia debemos codificar cada cifra de acuerdo a su representación en B o en G según corresponda.\n",
    "\n",
    "3. Secuencia R para los dígitos derechos:\n",
    "\n",
    "Las 6 cifras derechas son convertidas directamente mediante la codificación R a un patrón de unidades blancas y negras."
   ]
  },
  {
   "cell_type": "code",
   "execution_count": 367,
   "metadata": {},
   "outputs": [],
   "source": [
    "#imports\n",
    "\n",
    "import numpy as np\n",
    "import matplotlib.pyplot as plt\n"
   ]
  },
  {
   "cell_type": "code",
   "execution_count": 368,
   "metadata": {},
   "outputs": [],
   "source": [
    "# Secuencia de dígitos a codificar\n",
    "digitos= \"480017165411\""
   ]
  },
  {
   "cell_type": "code",
   "execution_count": 369,
   "metadata": {},
   "outputs": [],
   "source": [
    "zonaSilenciosa= 9 # Tamaño de la zona silenciosa en Unidades\n",
    "totalUnidades= 95+2*zonaSilenciosa # Se deben reservar totalUnidades unidades para imprimir el código de barras\n",
    "grosor= 2 # Ancho (en píxeles) de cada unidad"
   ]
  },
  {
   "cell_type": "code",
   "execution_count": 370,
   "metadata": {},
   "outputs": [],
   "source": [
    "# Salida: código de barras (unidades) y dígito de control\n",
    "def CalcularCodigoBarras(secuenciaDigitos):\n",
    "\n",
    "    # Código de barras\n",
    "    # Array de totalUnidades. 0= negro; 1= blanco\n",
    "    codigo= np.ones( totalUnidades , dtype= np.uint8)\n",
    "\n",
    "    # Codificaciones B/G/R\n",
    "   \n",
    "    B= np.uint8(\n",
    "        [\n",
    "            [1, 1, 1, 0, 0, 1, 0], # 0    \n",
    "            [1, 1, 0, 0, 1, 1, 0], # 1\n",
    "            [1, 1, 0, 1, 1, 0, 0], # 2\n",
    "            [1, 0, 0, 0, 0, 1, 0], # 3\n",
    "            [1, 0, 1, 1, 1, 0, 0], # 4\n",
    "            [1, 0, 0, 1, 1, 1, 0], # 5\n",
    "            [1, 0, 1, 0, 0, 0, 0], # 6\n",
    "            [1, 0, 0, 0, 1, 0, 0], # 7\n",
    "            [1, 0, 0, 1, 0, 0, 0], # 8\n",
    "            [1, 1, 1, 0, 1, 0, 0] # 9\n",
    "        ]    )\n",
    "    R = np.uint8(1-B)\n",
    "    G = np.uint8(np.flip(R, 1))\n",
    "\n",
    "    # Codificaciones a usar según el dígito de control\n",
    "    codificaciones= np.uint8( # 0= B; 1= G\n",
    "        [\n",
    "            [0, 0, 0, 0, 0, 0], # Dígito de control 0\n",
    "            [0, 0, 1, 0, 1, 1], # Dígito de control 1\n",
    "            [0, 0, 1, 1, 0, 1], # dígito de control 2\n",
    "            [0, 0, 1, 1, 1, 0], # dígito de control 3\n",
    "            [0, 1, 0, 0, 1, 1], # dígito de control 4\n",
    "            [0, 1, 1, 0, 0, 1], # dígito de control 5\n",
    "            [0, 1, 1, 1, 0, 0], # dígito de control 6\n",
    "            [0, 1, 0, 1, 0, 1], # dígito de control 7\n",
    "            [0, 1, 0, 1, 1, 0], # dígito de control 8\n",
    "            [0, 1, 1, 0, 1, 0] # dígito de control 9\n",
    "        ]\n",
    "    )\n",
    "    \n",
    "    \n",
    "    # Paso 1. Calcular dígito de control\n",
    "    secuenciaDigitos = np.array(tuple(secuenciaDigitos)).astype(np.uint8)\n",
    "    \n",
    "    control = secuenciaDigitos[::2]*3+secuenciaDigitos[1::2] #Cogemos los impares *3 y los pares\n",
    "    control = (10-sum(control)%10)%10 #Los sumamos todos y le hacemos el modulo 10, a eso le hacemos 10-x modulo 10\n",
    "    #El segundo modulo es para permitir que sea 0 cuando el resultado de x vale 10\n",
    "\n",
    "    # Paso 2. Escribir las unidades de las guías (S, E, M)\n",
    "    codigo[[9,11,55,57,101,103]] = 0\n",
    "    # Paso 3. Rellenar las unidades de LLLLLL\n",
    "    inicio = 12 #Primera unidad en la que hay L\n",
    "    fin = inicio + 7 #Separación entre una cifra L y la siguiente\n",
    "    for i in range(6):\n",
    "        if codificaciones[control][i] == 0: #Segun el código de control, para la cifra i:\n",
    "            codigo[inicio:fin] = B[int(secuenciaDigitos[i])] #Usamos la codificacion B\n",
    "        else:\n",
    "            codigo[inicio:fin] = G[int(secuenciaDigitos[i])] #O la G\n",
    "        inicio += 7#actualizamos para la siguiente L\n",
    "        fin +=7\n",
    "    # Paso 4. Rellenar las unidades de RRRRRR\n",
    "    inicio = 59\n",
    "    fin = inicio + 42\n",
    "    codigo[inicio:fin] = R[secuenciaDigitos[6:12]].reshape(-1)#Reshape para convertirlo en un vector1D \n",
    "\n",
    "    # Devolvería el código y el dígito de control\n",
    "    return codigo, control\n",
    "    "
   ]
  },
  {
   "cell_type": "code",
   "execution_count": 371,
   "metadata": {},
   "outputs": [
    {
     "name": "stdout",
     "output_type": "stream",
     "text": [
      "El dígito de control es:  8\n"
     ]
    }
   ],
   "source": [
    "\n",
    "# Imagen de salida\n",
    "anchoIm= totalUnidades*grosor\n",
    "altoIm= 100\n",
    "imagenSalida= np.ones( (altoIm, anchoIm) , dtype=np.uint8)*255\n",
    "\n",
    "\n",
    "# Calcular el resultado\n",
    "resultado = CalcularCodigoBarras(digitos)\n",
    "\n",
    "uds = resultado[0]\n",
    "DigitoControl= resultado[1]\n",
    "\n",
    "# Pintar código de barras\n",
    "# Para pintar un rectángulo de la coordenada (x,y) (10, 9) a la (13,11): \n",
    "#\n",
    "#Repeat para convertir las unidades a píxeles\n",
    "#Multiply para convertir los 1(blanco lógico) en 255(blanco en escala de grises)\n",
    "#Dibujamos solo en las filas entre las zonas silenciosas\n",
    "imagenSalida[zonaSilenciosa:altoIm-zonaSilenciosa, 0:anchoIm] = np.multiply(np.repeat(uds,grosor), 255)\n",
    "#Hacer hueco en blanco para los números\n",
    "imagenSalida[-25:altoIm, 12*grosor:54*grosor] = 255\n",
    "imagenSalida[-25:altoIm, 59*grosor:100*grosor] = 255"
   ]
  },
  {
   "cell_type": "code",
   "execution_count": 372,
   "metadata": {
    "scrolled": true
   },
   "outputs": [
    {
     "data": {
      "text/plain": [
       "Text(120, 90, '165411')"
      ]
     },
     "execution_count": 372,
     "metadata": {},
     "output_type": "execute_result"
    },
    {
     "data": {
      "image/png": "[encoded data removed]",
      "text/plain": [
       "<Figure size 432x288 with 1 Axes>"
      ]
     },
     "metadata": {
      "needs_background": "light"
     },
     "output_type": "display_data"
    }
   ],
   "source": [
    "\n",
    "imgplot= plt.imshow(imagenSalida, cmap='gray')\n",
    "imgplot.axes.get_xaxis().set_visible(False)\n",
    "imgplot.axes.get_yaxis().set_visible(False)\n",
    "\n",
    "\n",
    "\n",
    "\n",
    "\n",
    "# Para pintar texto en alguna coordenada, con un tamaño de fuente especificado\n",
    "plt.text(5, altoIm-10, DigitoControl, fontsize=30)\n",
    "plt.text(28, altoIm-10, digitos[0:6], fontsize=30)\n",
    "plt.text(120, altoIm-10, digitos[6:12], fontsize=30)"
   ]
  },
  {
   "cell_type": "code",
   "execution_count": null,
   "metadata": {},
   "outputs": [],
   "source": []
  }
 ],
 "metadata": {
  "kernelspec": {
   "display_name": "Python 3",
   "language": "python",
   "name": "python3"
  },
  "language_info": {
   "codemirror_mode": {
    "name": "ipython",
    "version": 3
   },
   "file_extension": ".py",
   "mimetype": "text/x-python",
   "name": "python",
   "nbconvert_exporter": "python",
   "pygments_lexer": "ipython3",
   "version": "3.8.5"
  }
 },
 "nbformat": 4,
 "nbformat_minor": 4
}
