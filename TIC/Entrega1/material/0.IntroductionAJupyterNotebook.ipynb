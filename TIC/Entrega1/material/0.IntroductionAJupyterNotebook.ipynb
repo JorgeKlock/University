{
 "cells": [
  {
   "cell_type": "markdown",
   "metadata": {},
   "source": [
    "\n",
    "# 1. Introducción a cuadernos Jupyter\n",
    "\n",
    "\n",
    "__NOTA: Debe tener instalado Python3 para poder ejecutar este cuaderno con éxito.__\n",
    "\n",
    "__OTRA NOTA: Siga rigurosamente las instrucciones que se indican en este texto.__\n",
    "\n",
    "\n",
    "Los cuadernos Jupyter suponen una forma interactiva y cómoda de escribir código en Python y en R. Además, integran el lenguaje MarkDown, que permite documentar el código y visualizar ejemplos de forma más dinámica.\n",
    "\n",
    "Existen dos tipos de celdas en un cuaderno Jupyter:\n",
    "\n",
    " - Celdas Markdown, que contienen código en lenguaje de etiquetas Markdown para documentar.\n",
    " - Celdas de código, que contienen código fuente a ejecutar (código Python, en nuestro caso).\n",
    "\n",
    "\n",
    "__INSTRUCCIONES:__\n",
    "\n",
    "Seleccione esta celda con el ratón (haciendo doble click). Entrará en el modo de edición de esta celda y permitirá modificarla. Escriba algo aquí, sustituyendo los símbolos \"x\":\n",
    "\n",
    "\n",
    "xxxxxxxxxx\n",
    "\n",
    "\n",
    "Para salir del modo de edición, presione la tecla __ESC__. Acto seguido, presione __CTRL-ENTER__ para compilar esta celda."
   ]
  },
  {
   "cell_type": "markdown",
   "metadata": {},
   "source": [
    "\n",
    "\n",
    "Esta es otra celda diferente del cuaderno.\n",
    "\n",
    "__INSTRUCCIONES:__\n",
    "\n",
    "__Seleccione esta celda con el ratón (haciendo doble click). Asegúrese de que NO está en el modo de edición presionando la tecla ESC. Acto seguido, presione CTRL-ENTER para compilar esta celda__.\n",
    "\n",
    "\n",
    "Habrá comprobado, al compilar tanto la celda anterior como la actual, cómo todo el texto se formatea según las etiquetas impuestas. Algunas de estas etiquetas son:\n",
    "\n",
    " - Los símbolos de almohadilla \\# ,\\##, \\### sirven para indicar secciones, subsecciones, y sub-subsecciones. Ejemplos:\n",
    " \n",
    "# Ejemplo de sección\n",
    "## Ejemplo de subsección\n",
    "### Ejemplo de sub-subsección\n",
    "\n",
    " - Un símbolo de espacio seguido de un guión (-), como esta línea y la siguiente, indican listas de ítems.\n",
    " - Subrayado simple (\\_): Inicia/termina cursiva. _Esto es un ejemplo_. También sirve un asterisco (\\*): *Esto es otro ejemplo*.\n",
    " - Subrayado doble (\\_\\_): Inicia/Termina negrita. __Esto es un ejemplo__. También sirven dos asteriscos (\\*\\*): **Esto es otro ejemplo**.\n",
    " - Un número seguido de un punto, seguido de un espacio: Lista de ítems enumerada. Por ejemplo:\n",
    " \n",
    "        1. Item 1.\n",
    "        2. Item 2.\n",
    "        3. ...\n",
    "\n",
    " - Etiqueta de imágenes: Carga una imagen desde un fichero local. Por ejemplo, suponiendo que en la carpeta donde se encuentra este cuaderno también está el directorrio __imagenes__ desempaquetado desde __*imagenes.zip*__, la siguiente etiqueta cargará una imagen en esta celda:\n",
    " \n",
    " ![Si no visualizas la imagen, es porque la carpeta imagenes no se encuentra en el mismo directorio que este cuaderno.](imagenes/bicycle.bmp \"Una bicicleta! (texto de ayuda)\")\n",
    "\n",
    "\n",
    "__Si desea visualizar mejor los ejemplos en modo de edición, haga doble click sobre esta celda.__"
   ]
  },
  {
   "cell_type": "markdown",
   "metadata": {},
   "source": [
    "\n",
    "Esta celda es de tipo Markdown. Se puede visualizar el tipo de la celda en la barra de botones. \n",
    "\n",
    "\n",
    "__INSTRUCCIONES__: Seleccione esta celda con el ratón. Verá que en el desplegable de la barra de botones del menú superior, aparece el texto \"Markdown\".\n",
    "\n",
    "\n",
    "Todas las celdas de tipo markdown se consideran documentación, y no deben contener código fuente ejecutable.\n"
   ]
  },
  {
   "cell_type": "code",
   "execution_count": 1,
   "metadata": {},
   "outputs": [],
   "source": [
    "\n",
    "# Esta celda es de tipo código. \n",
    "\n",
    "# INSTRUCCIONES: Seleccione esta celda con el ratón. Verá que en el desplegable de la\n",
    "#   barra de botones del menú superior, aparece el texto \"Code\".\n",
    "\n",
    "\n",
    "# Las celdas de tipo código pueden compilarse y ejecutarse. Sus resultados se verán a continuación de la celda.\n",
    "\n",
    "# INSTRUCCIONES: Seleccione la celda siguiente, asegúrese de que no está en modo de edición,\n",
    "#  y compile la celda con CTRL-ENTER. Verá cómo los resultados aparecen a continuación.\n"
   ]
  },
  {
   "cell_type": "code",
   "execution_count": 2,
   "metadata": {},
   "outputs": [
    {
     "name": "stdout",
     "output_type": "stream",
     "text": [
      "Bienvenid@ a Python3\n",
      "Bienvenid@ también a Jupyter Notebooks\n"
     ]
    }
   ],
   "source": [
    "\n",
    "print('Bienvenid@ a Python3')\n",
    "print('Bienvenid@ también a Jupyter Notebooks')"
   ]
  },
  {
   "cell_type": "markdown",
   "metadata": {},
   "source": [
    "\n",
    "# 2. Gestión de celdas\n",
    "\n",
    "Las celdas en un cuaderno Jupyter nos ayudan a separar/modularizar secciones de código que queremos ejecutar por separado o que, por una mejor documentación, separamos entre celdas Markdown para mejorar las explicaciones. Como este cuaderno, por ejemplo.\n",
    "\n",
    "\n",
    "Ya hemos visto que un Cuaderno Jupyter tiene dos modos para gestionar las celdas:\n",
    " \n",
    " - El modo de edición, que nos permite modificar su contenido.\n",
    " - El modo de gestión, que nos permite operar con celdas (por ejemplo, ejecutarlas/compilarlas).\n",
    " \n",
    "La gestión de celdas normalmente se realiza a través de atajos para obtener una mayor velocidad, aunque todos estos atajos se pueden hacer también con las operaciones del menú que aparece en la parte superior. Los atajos más importantes que usaremos son:\n",
    "\n",
    " - CTRL-ENTER: Ejecuta las celdas seleccionadas.\n",
    " - MAYS-ENTER: Ejecuta la celda actual.\n",
    " - ESC (en modo de edición): Sale del modo de edición de la celda y entra en el modo de gestión.\n",
    " - ENTER: (en modo de gestión): Sale del modo de gestión y entra en el modo de edición de la celda.\n",
    " - M (en modo de gestión): Cambia el tipo de celda a Markdown\n",
    " - Y (en modo de gestión): Cambia el tipo de celda a Código\n",
    " - B: Inserta una celda debajo de la actual\n",
    " - X: Cortar las celdas seleccionadas\n",
    " - C: Copiar las celdas seleccionadas\n",
    " - V: Pegar las celdas en memoria\n",
    " - D, D (pulsar D dos veces): Eliminar una celda.\n",
    " \n",
    "Si se desea ejecutar el cuaderno completo, se debe presionar sobre el botón (>>) (\"Restart kernel, re-run all\")."
   ]
  },
  {
   "cell_type": "markdown",
   "metadata": {},
   "source": [
    "# 3. Ejercicio\n",
    "\n",
    "Realice las siguientes tareas:\n",
    "\n",
    " - Desde este cuaderno, cree 3 celdas debajo de esta celda con el atajo B. La primera de tipo Markdown, la segunda de tipo Código, y la tercera de tipo Markdown.\n",
    " - En la segunda (la de código), escriba un breve programa Python.\n",
    " - En la primera (de Markdown), escriba una descripción de qué hace este código, haciendo uso de las etiquetas explicadas anteriormente.\n",
    " - Borre la última celda (de tipo Markdown) con D,D.\n",
    " \n",
    "Ejecute cada celda por separado. Luego reinicialice el kernel y re-ejecute todas las celdas."
   ]
  }
 ],
 "metadata": {
  "kernelspec": {
   "display_name": "Python 3",
   "language": "python",
   "name": "python3"
  },
  "language_info": {
   "codemirror_mode": {
    "name": "ipython",
    "version": 3
   },
   "file_extension": ".py",
   "mimetype": "text/x-python",
   "name": "python",
   "nbconvert_exporter": "python",
   "pygments_lexer": "ipython3",
   "version": "3.8.5"
  }
 },
 "nbformat": 4,
 "nbformat_minor": 4
}
