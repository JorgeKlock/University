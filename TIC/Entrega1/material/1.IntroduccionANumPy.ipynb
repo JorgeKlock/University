{
 "cells": [
  {
   "cell_type": "markdown",
   "metadata": {},
   "source": [
    "\n",
    "# 1. La biblioteca Numpy: Instalación\n",
    "\n",
    "Numpy es una biblioteca para Python, orientada al cálculo científico. En nuestro caso, la utilizaremos para representar arrays, tipos de datos básicos y realizar operaciones numéricas simples necesarias para las prácticas.\n",
    "\n",
    "Si no se tiene la biblioteca instalada, se puede instalar con el gestor de paquetes __pip3__ para Python 3 usando la siguiente orden por línea de comandos:\n",
    "\n",
    "__pip3 install numpy__\n",
    "\n",
    "o bien con __Conda__, si esta es la distribución que tiene instalada el estudiante:\n",
    "\n",
    "__conda install --yes numpy__\n",
    "\n",
    "\n",
    "__*NOTA: Durante los cuadernos guiados de la práctica usaremos pip3 como gestor principal. Si no lo tiene instalado y usa Ubuntu, puede instalarlo con el comando apt de la siguiente forma:*__\n",
    "\n",
    "__sudo apt install python3-pip__\n",
    "\n",
    "\n",
    "Si tiene instalado pip3, puede instalar también NumPy ejecutando la celda de código siguiente:\n"
   ]
  },
  {
   "cell_type": "code",
   "execution_count": 1,
   "metadata": {},
   "outputs": [
    {
     "name": "stdout",
     "output_type": "stream",
     "text": [
      "Requirement already satisfied: numpy in /home/manupc/.local/lib/python3.8/site-packages (1.18.4)\r\n"
     ]
    }
   ],
   "source": [
    "\n",
    "# OJO!!!! IMPORTANTE!!!!!\n",
    "\n",
    "# No ejecutar esta celda salvo si se desea instalar NumPy. \n",
    "# Si ya lo tiene instalado, comente la siguiente línea con el caracter # :\n",
    "\n",
    "!pip3 install numpy\n"
   ]
  },
  {
   "cell_type": "markdown",
   "metadata": {},
   "source": [
    "\n",
    "# 2. Numpy: Primeros pasos"
   ]
  },
  {
   "cell_type": "markdown",
   "metadata": {},
   "source": [
    "\n",
    "\n",
    "Para poder hacer uso de NumPy en Python, es necesario importar la biblioteca. Una forma común de hacerlo dentro de un script Python es la siguiente:\n"
   ]
  },
  {
   "cell_type": "code",
   "execution_count": 2,
   "metadata": {},
   "outputs": [],
   "source": [
    "\n",
    "# Imports para Numpy\n",
    "import numpy as np\n",
    "\n"
   ]
  },
  {
   "cell_type": "markdown",
   "metadata": {},
   "source": [
    "\n",
    "## 2.1. Introducción a los Arrays en Numpy\n",
    "\n",
    "\n",
    "Un array NumPy es realmente una malla (matriz, volumen, etc.) de valores del mismo tipo, que se encuentra indexada por una tupla de enteros no negativos. El número de dimensiones de un array es el rango de la malla; Su forma (shape), una tupla de enteros indicando el tamaño concreto de cada dimensión.\n",
    "\n",
    "Es posible inicializar arrays NumPy desde listas de Python anidadas, y acceder a las celdas usando corchetes. También es posible especificar el tipo de dato de las componentes del array, y acceder a propiedades de un ndarray como:\n",
    "\n",
    " - el número total de componentes que existen (campo __size__), \n",
    " - la forma o tamaño en cada dimensión del array (campo __shape__),\n",
    " - número de dimensiones (campo __ndim__),\n",
    " - tipo de dato de cada componente (campo __dtype__),\n",
    " - o el número de bytes que ocupa cada componente (campo __itemsize__), entre otros.\n",
    "\n",
    "\n",
    "\n",
    "Por ejemplo, la siguiente celda crea varios arrays partiendo de listas Python, imprime el tipo de la variable creada (un array), su forma, y algunas de sus componentes:\n",
    "\n"
   ]
  },
  {
   "cell_type": "code",
   "execution_count": 3,
   "metadata": {},
   "outputs": [
    {
     "name": "stdout",
     "output_type": "stream",
     "text": [
      "Tipo de a:  <class 'numpy.ndarray'>\n",
      "Tipo de las componentes de a:  int64\n",
      "Dimensiones de a:  1\n",
      "Forma de a: (3,)\n",
      "Componentes 0, 1, 2 de a:  1 2 3\n",
      "a tras asignar a[0]=5:  [5 2 3]\n",
      "Array b:  [[1. 2. 3.]\n",
      " [4. 5. 6.]]\n",
      "Forma de b:  (2, 3)\n",
      "Dimensiones de b:  2\n",
      "Tipo de las componentes de b:  float32\n",
      "Acceso a componentes de b separado por comas:  1.0 2.0 4.0\n",
      "acceso a componentes de b como array de arrays:  1.0 2.0 4.0\n"
     ]
    }
   ],
   "source": [
    "\n",
    "# Creación de un array de dimensión/rango 1D con shape (tamaño) 3:\n",
    "a = np.array([1, 2, 3]) \n",
    "\n",
    "# Imprime el tipo del array\n",
    "print('Tipo de a: ', type(a))\n",
    "\n",
    "# Imprime el tipo de las componentes del array\n",
    "print('Tipo de las componentes de a: ', a.dtype)\n",
    "\n",
    "# Imprime el rango/dimensión del array\n",
    "print('Dimensiones de a: ', a.ndim)\n",
    "\n",
    "\n",
    "\n",
    "\n",
    "# Imprime el tamaño del array (3 componentes)\n",
    "print('Forma de a:',  a.shape)\n",
    "\n",
    "# Imprime las componentes 0, 1 y 2 del array.\n",
    "print('Componentes 0, 1, 2 de a: ', a[0], a[1], a[2])\n",
    "\n",
    "\n",
    "# Asigna el valor 5 a la primera componente del array\n",
    "a[0] = 5\n",
    "\n",
    "# Muestra el contenido del array\n",
    "print('a tras asignar a[0]=5: ', a)\n",
    "\n",
    "\n",
    "\n",
    "# Crea un nuevo array de dimensión/rango 2, con shape (tamaño 2x3) y con tipo de componentes float\n",
    "#  desde listas Python anidadas\n",
    "b = np.array([[1,2,3],[4,5,6]], dtype=np.float32)\n",
    "print ('Array b: ', b)\n",
    "      \n",
    "# Muestra (2,3), 2 filas y 3 columnas \n",
    "print('Forma de b: ', b.shape)\n",
    "\n",
    "\n",
    "# Imprime el rango/dimensión del array\n",
    "print('Dimensiones de b: ', b.ndim)\n",
    "\n",
    "# Imprime el tipo de las componentes del array\n",
    "print('Tipo de las componentes de b: ', b.dtype)\n",
    "\n",
    "\n",
    "\n",
    "\n",
    "# El acceso a componentes se puede hacer separado por comas, o bien por corchetes separados (al estilo C)\n",
    "# Muestra algunas componentes: Valores 1, 2, 4.\n",
    "print('Acceso a componentes de b separado por comas: ', b[0, 0], b[0, 1], b[1, 0])\n",
    "print('acceso a componentes de b como array de arrays: ', b[0][0], b[0][1], b[1][0])\n",
    "\n"
   ]
  },
  {
   "cell_type": "markdown",
   "metadata": {},
   "source": [
    "\n",
    "También se puede modificar la forma de un array, mediante el método __reshape__, de modo que los mismos datos ocupados por el array tengan una *vista* diferente.\n",
    "\n",
    "Ejemplo sobre el array de 2x3 de la celda anterior:\n",
    " "
   ]
  },
  {
   "cell_type": "code",
   "execution_count": 4,
   "metadata": {},
   "outputs": [
    {
     "name": "stdout",
     "output_type": "stream",
     "text": [
      " Array b:  [[1. 2. 3.]\n",
      " [4. 5. 6.]]\n",
      "Forma inicial del array:  (2, 3)\n",
      "b con forma (1,6):  (1, 6) [[1. 2. 3. 4. 5. 6.]]\n",
      "b con forma (2,3):  (2, 3) [[1. 2. 3.]\n",
      " [4. 5. 6.]]\n"
     ]
    }
   ],
   "source": [
    "\n",
    "# Mostramos array inicial\n",
    "b = np.array([[1,2,3],[4,5,6]], dtype=np.float32)\n",
    "print(' Array b: ', b)\n",
    "\n",
    "\n",
    "print('Forma inicial del array: ', b.shape)\n",
    "\n",
    "# Modificamos a array 1D\n",
    "b= b.reshape(1,6)\n",
    "\n",
    "# Mostramos el modificado\n",
    "print('b con forma (1,6): ', b.shape, b)\n",
    "\n",
    "\n",
    "\n",
    "# Cambiamos ahora a array de 3x2:\n",
    "b= b.reshape(2,3)\n",
    "\n",
    "# Mostramos el modificado\n",
    "print('b con forma (2,3): ', b.shape, b)\n",
    "\n"
   ]
  },
  {
   "cell_type": "markdown",
   "metadata": {},
   "source": [
    "\n",
    "## 2.2. Funciones adicionales para creación de arrays\n",
    "\n",
    "Hay funciones básicas que permiten crear arrays con valores predeterminados, como por ejemplo:\n",
    "\n",
    " - __np.zeros(tupla)__: Crea un array de dimensión el tamaño de la tupla, y de forma indicada en la tupla, con todas las componentes inicializadas a 0.\n",
    " - __np.ones(tupla)__: Crea un array de dimensión el tamaño de la tupla, y de forma indicada en la tupla, con todas las componentes inicializadas a 1.\n",
    " - __np.full(tupla, valor)__: Crea un array de dimensión el tamaño de la tupla, y de forma indicada en la tupla, con todas las componentes inicializadas a valor.\n",
    " - __np.eye(valor)__: Crea una matriz identidad cuadrada de dimensión valorxvalor.\n",
    " - __np.random.random(tupla)__: Crea un array de dimensión el tamaño de la tupla, y de forma indicada en la tupla, con valores aleatorios.\n",
    " - __np.arange(inicio, final, paso)__: Crea un array desde inicio hasta final (no inclusive), tomando valores de paso en paso.\n",
    " - __np.linspace( min, max, tam )__: Crea un array de tam números distribuidos uniformemente entre min y max"
   ]
  },
  {
   "cell_type": "code",
   "execution_count": 5,
   "metadata": {},
   "outputs": [
    {
     "name": "stdout",
     "output_type": "stream",
     "text": [
      "Array del 0 al 30 (no inclusive), de 2 en 2:  [ 0  2  4  6  8 10 12 14 16 18 20 22 24 26 28]\n",
      " Matriz de ceros de 2x3:  [[0. 0. 0.]\n",
      " [0. 0. 0.]]\n",
      "Array (2,3,4):  [[[1. 1. 1. 1.]\n",
      "  [1. 1. 1. 1.]\n",
      "  [1. 1. 1. 1.]]\n",
      "\n",
      " [[1. 1. 1. 1.]\n",
      "  [1. 1. 1. 1.]\n",
      "  [1. 1. 1. 1.]]]\n",
      "Matriz de 4x3 inicializada a 7:  [[7 7 7]\n",
      " [7 7 7]\n",
      " [7 7 7]\n",
      " [7 7 7]]\n",
      "Matriz identidad de 5x5:  [[1. 0. 0. 0. 0.]\n",
      " [0. 1. 0. 0. 0.]\n",
      " [0. 0. 1. 0. 0.]\n",
      " [0. 0. 0. 1. 0.]\n",
      " [0. 0. 0. 0. 1.]]\n",
      "Matriz aleatoria de 5x3 aleatoria en [0,1]:  [[0.99534099 0.39720571 0.73740688]\n",
      " [0.25012791 0.00813794 0.53846465]\n",
      " [0.91215185 0.0677487  0.32765427]\n",
      " [0.55452249 0.63996488 0.42173882]\n",
      " [0.99186473 0.83743283 0.60870476]]\n",
      "Array creado con linspace:  [0.   0.25 0.5  0.75 1.   1.25 1.5  1.75 2.  ]\n"
     ]
    }
   ],
   "source": [
    "\n",
    "# Array de elementos de 0 a 30 (no inclusive), de 2 en 2\n",
    "a= np.arange(0, 30, 2)\n",
    "print('Array del 0 al 30 (no inclusive), de 2 en 2: ', a)\n",
    "\n",
    "\n",
    "# Ejemplo: Crear matriz de ceros de 2x3\n",
    "a = np.zeros((2,3))\n",
    "print(' Matriz de ceros de 2x3: ', a)\n",
    "\n",
    "\n",
    "# Ejemplo: Crear matriz de unos de 2x3x4\n",
    "a = np.ones((2,3,4))\n",
    "print('Array (2,3,4): ', a)\n",
    "\n",
    "\n",
    "# Ejemplo: Crear matriz de 7's de 4x3\n",
    "a = np.full((4,3), 7)\n",
    "print('Matriz de 4x3 inicializada a 7: ', a)\n",
    "\n",
    "\n",
    "\n",
    "# Ejemplo: Crear matriz identidad de 5x5\n",
    "a = np.eye(5)\n",
    "print('Matriz identidad de 5x5: ', a)\n",
    "\n",
    "\n",
    "# Ejemplo: Crear matriz aleatoria de 5x3\n",
    "a = np.random.random((5,3))\n",
    "print('Matriz aleatoria de 5x3 aleatoria en [0,1]: ', a)\n",
    "\n",
    "# Ejemplo: Crear array con linspace\n",
    "a= np.linspace(0,2,9)\n",
    "print('Array creado con linspace: ', a)"
   ]
  },
  {
   "cell_type": "markdown",
   "metadata": {},
   "source": [
    "\n",
    "## 2.3. Indexación avanzada\n",
    "\n",
    "Ya hemos visto que se puede indexar un array por valores separados por comas, o usando la notación de array de array. Existen otras formas que a veces simplifican el acceso a datos, principalmente por rangos:\n"
   ]
  },
  {
   "cell_type": "code",
   "execution_count": 6,
   "metadata": {},
   "outputs": [
    {
     "name": "stdout",
     "output_type": "stream",
     "text": [
      "Array a:  [[ 1  2  3  4]\n",
      " [ 5  6  7  8]\n",
      " [ 9 10 11 12]]\n",
      "Acceso a a[1,2] separado por comas:  7\n",
      "Acceso a a[1][2] como array de arrays:  7\n",
      "Acceso a a[(1,2)] como tupla:  7\n",
      "Acceso a a[:2, 1:3]:  [[2 3]\n",
      " [6 7]]\n",
      "Acceso a a[1:, :]:  [[ 5  6  7  8]\n",
      " [ 9 10 11 12]]\n",
      "Acceso a a[[0, 1], [1, 2]]:  [2 7]\n",
      "Acceso a a[vector_filas, vector_columnas]:  [2 7 4]\n",
      "Array a:  [[1 2]\n",
      " [3 4]\n",
      " [5 6]]\n",
      "Componentes de a>2 como bool:  [[False False]\n",
      " [ True  True]\n",
      " [ True  True]]\n",
      "Indexación booleana a[bool_idx]:  [3 4 5 6]\n"
     ]
    }
   ],
   "source": [
    "\n",
    "# Creación de array de 3x4\n",
    "a = np.array([[1,2,3,4], [5,6,7,8], [9,10,11,12]])\n",
    "print('Array a: ', a)\n",
    "\n",
    "# Acceso básico separado por comas\n",
    "print('Acceso a a[1,2] separado por comas: ', a[1, 2] ) # Imprime 7\n",
    "\n",
    "# Acceso básico como array de array\n",
    "print('Acceso a a[1][2] como array de arrays: ', a[1][2] ) # Imprime 7\n",
    "\n",
    "# Acceso a componente por tupla \n",
    "t=(1,2)\n",
    "print('Acceso a a[(1,2)] como tupla: ', a[t] )   # Imprime 7\n",
    "\n",
    "\n",
    "# Acceso por rango: Submatriz de 0 a 1, y de 1 a 2\n",
    "# OJO!!!: El último valor del rango no está incluido\n",
    "b = a[:2, 1:3]\n",
    "print('Acceso a a[:2, 1:3]: ', b) # Imprime la submatriz [[2, 3] ,  [6, 7]]\n",
    "\n",
    "b = a[1:, :] # Selecciona de la fila 1 en adelante, todas las columnas\n",
    "print('Acceso a a[1:, :]: ', b) # Imprime la submatriz [[5, 6, 7, 8], [9, 10, 11, 12]]\n",
    "\n",
    "\n",
    "\n",
    "\n",
    "# Indexación por lista. Crea array con los elementos de las posiciones [0,1] y [1,2]\n",
    "b= a[[0, 1], [1, 2]]\n",
    "\n",
    "print('Acceso a a[[0, 1], [1, 2]]: ', b) # Muestra 2 y 7, los elementos que hay en a[0,1] y a[1,2]\n",
    "\n",
    "# La indexación por lista se puede generalizar a arrays:\n",
    "filas= [0,1,0]\n",
    "columnas= [1,2,3]\n",
    "b= a[filas, columnas] # Array con la selección de los elementos de a en (0,1), (1,2), (0,3)\n",
    "print('Acceso a a[vector_filas, vector_columnas]: ', b)\n",
    "\n",
    "\n",
    "\n",
    "# Indexación booleana\n",
    "a = np.array([[1,2], [3, 4], [5, 6]])\n",
    "print('Array a: ', a)\n",
    "\n",
    "bool_idx = (a > 2) # Selección sólo de los elementos de a que son >2\n",
    "print('Componentes de a>2 como bool: ', bool_idx)\n",
    "\n",
    "b= a[bool_idx] # Selección booleana\n",
    "print('Indexación booleana a[bool_idx]: ', b)\n"
   ]
  },
  {
   "cell_type": "markdown",
   "metadata": {},
   "source": [
    "\n",
    "## 2.4. Operaciones aritméticas con arrays\n",
    "\n",
    "Las operaciones aritméticas sobre arrays se realizan __elemento a elemento__ . Así, el operador + suma elemento a elemento, el operator * multiplica elemento a elemento, etc. . Si se desea realizar operaciones matriciales (por ejemplo, multiplicación de matrices), se deben realizar haciendo uso de operadores específicos para ello (por ejemplo, la función dot ).\n",
    "\n",
    "Algunos ejemplos:\n",
    "\n"
   ]
  },
  {
   "cell_type": "code",
   "execution_count": 7,
   "metadata": {},
   "outputs": [
    {
     "name": "stdout",
     "output_type": "stream",
     "text": [
      " Suma x+y:  [[ 6  8]\n",
      " [10 12]]\n",
      " Suma np.add(x,y):  [[ 6  8]\n",
      " [10 12]]\n",
      "\n",
      "Multiplicación x * y:  [[ 5 12]\n",
      " [21 32]]\n",
      "Multiplicación np.multiply(x, y):  [[ 5 12]\n",
      " [21 32]]\n",
      "División real x/y:  [[0.2        0.33333333]\n",
      " [0.42857143 0.5       ]]\n",
      "División real np.divide(x, y):  [[0.2        0.33333333]\n",
      " [0.42857143 0.5       ]]\n",
      "División entera x//y:  [[0 0]\n",
      " [0 0]]\n",
      "Elevar elemento a elemento x**y:  [[    1    64]\n",
      " [ 2187 65536]]\n"
     ]
    }
   ],
   "source": [
    "\n",
    "\n",
    "# Creación de 2 arrays de ejemplo\n",
    "x = np.array([[1,2],[3,4]])\n",
    "y = np.array([[5,6],[7,8]])\n",
    "\n",
    "# Suma de arrays: Por operador y por función\n",
    "print(' Suma x+y: ', x + y)\n",
    "print(' Suma np.add(x,y): ', np.add(x, y))\n",
    "print()\n",
    "\n",
    "# Multiplicación elemento a elemento\n",
    "print('Multiplicación x * y: ', x*y)\n",
    "print('Multiplicación np.multiply(x, y): ', np.multiply(x, y))\n",
    "\n",
    "# División real\n",
    "print('División real x/y: ', x/y)\n",
    "print('División real np.divide(x, y): ', np.divide(x, y))\n",
    "\n",
    "# División entera\n",
    "print('División entera x//y: ', x//y)\n",
    "\n",
    "# Elevar elemento a elemento\n",
    "print('Elevar elemento a elemento x**y: ', x**y)\n",
    "\n"
   ]
  },
  {
   "cell_type": "markdown",
   "metadata": {},
   "source": [
    "\n",
    "Además de los operadores aritméticos, NumPy también trae incorporada la funcionalidad de matemáticas básicas (operaciones trigonométricas, exponenciación, logaritmos, etc.).\n",
    "\n",
    "La lista completa de operadores se puede encontrar en: \n",
    "\n",
    "https://docs.scipy.org/doc/numpy/reference/routines.math.html\n",
    "\n",
    "Algunos ejemplos:\n"
   ]
  },
  {
   "cell_type": "code",
   "execution_count": 8,
   "metadata": {},
   "outputs": [
    {
     "name": "stdout",
     "output_type": "stream",
     "text": [
      "Vector x:  [[1 2]\n",
      " [3 4]]\n",
      "Función sqrt:  [[1.         1.41421356]\n",
      " [1.73205081 2.        ]]\n",
      "Función log2:  [[0.        1.       ]\n",
      " [1.5849625 2.       ]]\n",
      "Función log10:  [[0.         0.30103   ]\n",
      " [0.47712125 0.60205999]]\n",
      "Función exp:  [[ 2.71828183  7.3890561 ]\n",
      " [20.08553692 54.59815003]]\n"
     ]
    }
   ],
   "source": [
    "\n",
    "x = np.array([[1,2],[3,4]])\n",
    "print('Vector x: ', x)\n",
    "\n",
    "# Prueba de algunas funciones matemáticas\n",
    "print('Función sqrt: ', np.sqrt(x))\n",
    "\n",
    "print('Función log2: ', np.log2(x))\n",
    "\n",
    "print('Función log10: ', np.log10(x))\n",
    "\n",
    "print('Función exp: ', np.exp(x))"
   ]
  },
  {
   "cell_type": "markdown",
   "metadata": {},
   "source": [
    "\n",
    "\n",
    "También trae operadores de agregación sobre matrices/vectores (suma/multiplicación de elementos en un eje, etc.).\n",
    "Algunos ejemplos:\n",
    "\n"
   ]
  },
  {
   "cell_type": "code",
   "execution_count": 9,
   "metadata": {},
   "outputs": [
    {
     "name": "stdout",
     "output_type": "stream",
     "text": [
      "Matriz x:  [[ 0  1  2  3  4]\n",
      " [ 5  6  7  8  9]\n",
      " [10 11 12 13 14]]\n",
      "Suma de todos los elementos de x:  105\n",
      "Suma de todos los elementos de x sobre el eje 0 (filas):  [15 18 21 24 27]\n",
      "Suma de todos los elementos de x sobre el eje 1 (columnas):  [10 35 60]\n",
      "Vector x [[0.         0.00952381 0.01904762 0.02857143 0.03809524 0.04761905\n",
      "  0.05714286 0.06666667 0.07619048 0.08571429 0.0952381  0.1047619\n",
      "  0.11428571 0.12380952 0.13333333]]\n",
      "Suma acumulada de x:  [0.         0.00952381 0.02857143 0.05714286 0.0952381  0.14285714\n",
      " 0.2        0.26666667 0.34285714 0.42857143 0.52380952 0.62857143\n",
      " 0.74285714 0.86666667 1.        ]\n"
     ]
    }
   ],
   "source": [
    "\n",
    "x= np.arange(15).reshape(3,5)\n",
    "\n",
    "print('Matriz x: ',x)\n",
    "\n",
    "y= np.sum(x)\n",
    "print('Suma de todos los elementos de x: ', y)\n",
    "\n",
    "y= np.sum(x, axis=0)\n",
    "print('Suma de todos los elementos de x sobre el eje 0 (filas): ', y)\n",
    "\n",
    "y= np.sum(x, axis=1)\n",
    "print('Suma de todos los elementos de x sobre el eje 1 (columnas): ', y)\n",
    "\n",
    "\n",
    "x= x.reshape(1,15)/np.sum(x)\n",
    "print('Vector x', x)\n",
    "\n",
    "y=np.cumsum(x)\n",
    "print('Suma acumulada de x: ', y)\n"
   ]
  },
  {
   "cell_type": "markdown",
   "metadata": {},
   "source": [
    "\n",
    "## 2.5. Broadcasting\n",
    "\n",
    "El broadcasting es un mecanismo de NumPy que permite trabajar con arrays de diferente tamaño cuando se realizan operaciones aritméticas.\n",
    "\n",
    "Algunos ejemplos serían añadir un vector columna a una matriz, o sumar un escalar a un vector, etc.\n",
    "\n",
    "Ejemplos de broadcasting:\n"
   ]
  },
  {
   "cell_type": "code",
   "execution_count": 10,
   "metadata": {},
   "outputs": [
    {
     "name": "stdout",
     "output_type": "stream",
     "text": [
      "Vector x inicial:  [ 0  1  2  3  4  5  6  7  8  9 10 11 12 13 14]\n",
      "Suma de escalar 2 a x:  [ 2  3  4  5  6  7  8  9 10 11 12 13 14 15 16]\n",
      "Matriz original m:  [[ 1  2  3]\n",
      " [ 4  5  6]\n",
      " [ 7  8  9]\n",
      " [10 11 12]]\n",
      "Vector original v:  [1 0 1]\n",
      "Resultado de sumar vector columna con bucle for:  [[ 2  2  4]\n",
      " [ 5  5  7]\n",
      " [ 8  8 10]\n",
      " [11 11 13]]\n",
      "Resultado de sumar vector columna directamente con operador +:  [[ 2  2  4]\n",
      " [ 5  5  7]\n",
      " [ 8  8 10]\n",
      " [11 11 13]]\n",
      "Vector fila v=  [[1]\n",
      " [2]\n",
      " [3]\n",
      " [4]]\n",
      "Resultado de sumar vector columna directamente con operador +:  [[ 2  3  4]\n",
      " [ 6  7  8]\n",
      " [10 11 12]\n",
      " [14 15 16]]\n",
      "Vector v= [1 2 3]  y w= [4 5]\n",
      "Resultado de calcular producto exterior:  [[ 4  5]\n",
      " [ 8 10]\n",
      " [12 15]]\n"
     ]
    }
   ],
   "source": [
    "\n",
    "# Definición de array\n",
    "x= np.arange(15)\n",
    "print('Vector x inicial: ', x)\n",
    "\n",
    "# Ejemplo de suma de escalar\n",
    "y= x+2\n",
    "print('Suma de escalar 2 a x: ', y)\n",
    "\n",
    "\n",
    "# Creación de matrices\n",
    "m = np.array([[1,2,3], [4,5,6], [7,8,9], [10, 11, 12]])\n",
    "v = np.array([1, 0, 1])\n",
    "y = np.empty_like(m)   # Creación de matriz y vacía, del mismo tamaño que x\n",
    "print('Matriz original m: ', m)\n",
    "print('Vector original v: ', v)\n",
    "\n",
    "# Ejemplo de añadir vector columna a cada columna de m\n",
    "for i in range(m.shape[0]): # Recorremos filas\n",
    "    y[i, :] = m[i, :] + v # A cada fila, se le añade vector\n",
    "print('Resultado de sumar vector columna con bucle for: ', y)\n",
    "\n",
    "\n",
    "# Ejemplo de añadir vector columna a cada columna de m, con broadcasting\n",
    "y= m+v\n",
    "print('Resultado de sumar vector columna directamente con operador +: ', y)\n",
    "\n",
    "\n",
    "\n",
    "# Ejemplo de añadir vector fila a cada columna de m con broadcasting\n",
    "v=np.array([1,2,3,4]).reshape(4,1)\n",
    "print('Vector fila v= ', v)\n",
    "y= m+v\n",
    "print('Resultado de sumar vector columna directamente con operador +: ', y)\n",
    "\n",
    "\n",
    "\n",
    "# Ejemplo: Cálculo del producto externo\n",
    "v = np.array([1,2,3])  # v has shape (3,)\n",
    "w = np.array([4,5])    # w has shape (2,)\n",
    "print('Vector v=', v, ' y w=', w)\n",
    "y= np.reshape(v, (3, 1)) * w \n",
    "print('Resultado de calcular producto exterior: ', y)\n"
   ]
  },
  {
   "cell_type": "markdown",
   "metadata": {},
   "source": [
    "\n",
    "## 2.6. Operaciones sobre arrays/matrices (no confundir con el tipo matrix)\n",
    "\n",
    "\n",
    "Numpy también incorpora funcionalidades para operaciones con matrices:\n",
    "\n",
    " - Producto matricial (.dot)\n",
    " - Traspuesta de una matriz (.T)\n",
    " - etc.\n",
    " \n",
    "Ejemplos:\n"
   ]
  },
  {
   "cell_type": "code",
   "execution_count": 11,
   "metadata": {},
   "outputs": [
    {
     "name": "stdout",
     "output_type": "stream",
     "text": [
      "Array x  [[1]\n",
      " [2]\n",
      " [3]] , con shape  (3, 1)\n",
      "Array y  [[4 5 6]] , con shape  (1, 3)\n",
      "Producto de matrices:  [[ 4  5  6]\n",
      " [ 8 10 12]\n",
      " [12 15 18]]\n",
      "Su traspuesta:  [[ 4  8 12]\n",
      " [ 5 10 15]\n",
      " [ 6 12 18]]\n"
     ]
    }
   ],
   "source": [
    "\n",
    "\n",
    "x= np.array([1,2,3]).reshape(3,1)\n",
    "y= np.array([4,5,6]).reshape(1,3)\n",
    "print('Array x ', x, ', con shape ', x.shape)\n",
    "print('Array y ', y, ', con shape ', y.shape)\n",
    "\n",
    "# Ejemplo de producto\n",
    "producto= x.dot(y)\n",
    "print('Producto de matrices: ', producto)\n",
    "\n",
    "\n",
    "# Ejemplo de trasposición\n",
    "print('Su traspuesta: ', producto.T)"
   ]
  },
  {
   "cell_type": "markdown",
   "metadata": {},
   "source": [
    "\n",
    "También son muy importantes las operaciones sobre redimensionamiento de arrays, que pueden verse en el siguiente enlace:\n",
    "\n",
    "https://docs.scipy.org/doc/numpy/reference/routines.array-manipulation.html\n",
    "\n",
    "Algunos ejemplos:\n",
    "\n",
    " - flatten, que serializa un array a 1D\n",
    " - swapaxes, que intercambia 2 ejes de un array"
   ]
  },
  {
   "cell_type": "code",
   "execution_count": 12,
   "metadata": {},
   "outputs": [
    {
     "name": "stdout",
     "output_type": "stream",
     "text": [
      "Array x:  [[[ 0  1  2  3  4]\n",
      "  [ 5  6  7  8  9]\n",
      "  [10 11 12 13 14]\n",
      "  [15 16 17 18 19]]\n",
      "\n",
      " [[20 21 22 23 24]\n",
      "  [25 26 27 28 29]\n",
      "  [30 31 32 33 34]\n",
      "  [35 36 37 38 39]]\n",
      "\n",
      " [[40 41 42 43 44]\n",
      "  [45 46 47 48 49]\n",
      "  [50 51 52 53 54]\n",
      "  [55 56 57 58 59]]]\n",
      "x flatten:  [ 0  1  2  3  4  5  6  7  8  9 10 11 12 13 14 15 16 17 18 19 20 21 22 23\n",
      " 24 25 26 27 28 29 30 31 32 33 34 35 36 37 38 39 40 41 42 43 44 45 46 47\n",
      " 48 49 50 51 52 53 54 55 56 57 58 59]\n",
      "x swapaxes(1,2):  [[[ 0  5 10 15]\n",
      "  [ 1  6 11 16]\n",
      "  [ 2  7 12 17]\n",
      "  [ 3  8 13 18]\n",
      "  [ 4  9 14 19]]\n",
      "\n",
      " [[20 25 30 35]\n",
      "  [21 26 31 36]\n",
      "  [22 27 32 37]\n",
      "  [23 28 33 38]\n",
      "  [24 29 34 39]]\n",
      "\n",
      " [[40 45 50 55]\n",
      "  [41 46 51 56]\n",
      "  [42 47 52 57]\n",
      "  [43 48 53 58]\n",
      "  [44 49 54 59]]]\n",
      "Expansión de las dimensiones del array;  (3, 4, 5, 1)\n",
      "Eliminar dimensiones de tamaño 1 con squeeze:  (3, 4, 5)\n",
      "Slice x1:  [[ 0  1  2  3  4]\n",
      " [ 5  6  7  8  9]\n",
      " [10 11 12 13 14]\n",
      " [15 16 17 18 19]]\n"
     ]
    }
   ],
   "source": [
    "\n",
    "x= np.arange(3*4*5).reshape(3,4,5)\n",
    "print('Array x: ', x)\n",
    "\n",
    "# Ejemplo de flatten\n",
    "print('x flatten: ', x.flatten())\n",
    "\n",
    "# Ejemplo de swapaxes\n",
    "y= x.swapaxes(1,2)\n",
    "print('x swapaxes(1,2): ', y)\n",
    "\n",
    "# Ejemplo de expandir las dimensiones de un array\n",
    "y = np.expand_dims(x, axis=-1)\n",
    "print('Expansión de las dimensiones del array; ', y.shape)\n",
    "\n",
    "\n",
    "# Ejemplo de eliminar las dimensiones de un array de tamaño 1\n",
    "y = np.squeeze(y)\n",
    "print('Eliminar dimensiones de tamaño 1 con squeeze: ', y.shape)\n",
    "\n",
    "# Slicing de un array 3D\n",
    "x1,x2,x3= x[0:3]\n",
    "print('Slice x1: ', x1)\n"
   ]
  },
  {
   "cell_type": "markdown",
   "metadata": {},
   "source": [
    "## 2.7. Tipos de datos\n",
    "\n",
    "Los tipos de datos soportados por NumPy son:\n",
    "\n",
    " - np.int8 -> Entero de 8 bits (byte) (-128 to 127)\n",
    " - np.int16 -> Entero de 16 bits (-32768 to 32767)\n",
    " - np.int32 -> Entero de 32 bits (-2147483648 to 2147483647)\n",
    " - np.int64 -> Entero de 64 bits (-9223372036854775808 to 9223372036854775807)\n",
    " - np.uint8 -> Entero sin signo de 8 bits (byte) (0 to 255)\n",
    " - np.uint16 -> Entero sin signo de 16 bits (0 to 65535)\n",
    " - np.uint32 -> Entero sin signo de 32 bits (0 to 4294967295)\n",
    " - np.uint64 -> Entero sin signo de 64 bits (0 to 18446744073709551615)\n",
    " - np.intp -> Entero de tamaño ssize_t, útil para  indexación (números largos)\n",
    " - np.uintp -> Entero largo que puede contener un puntero\n",
    " - np.float32 -> Float de precisión simple\n",
    " - np.float64 -> Float de doble precisión\n",
    " - np.complex64 -> Complejo de 64 bits (32 bits parte real e imaginaria)\n",
    " - np.complex128-> Complejo de 128 bits (64 bits parte real e imaginaria)\n",
    "\n",
    "\n",
    "Se puede especificar y crear nuevos tipos de datos a través de objetos __dtype__ incluyendo, además, qué tipo de codificación interna se desea para el tipo (Big Endian, Little Endian, etc.).\n",
    "\n",
    "Algunos ejemplos:\n",
    "\n"
   ]
  },
  {
   "cell_type": "code",
   "execution_count": 13,
   "metadata": {},
   "outputs": [
    {
     "name": "stdout",
     "output_type": "stream",
     "text": [
      "Tipo entero de 32 bits:  int32\n",
      "Unsigned Short con Big Endian:  >u2\n"
     ]
    }
   ],
   "source": [
    "\n",
    "# instanciación de un tipo como un dato:\n",
    "dt = np.dtype(np.int32)\n",
    "print('Tipo entero de 32 bits: ', dt)\n",
    "\n",
    "\n",
    "# Creación de un tipo de dato equivalente a \"unsigned short\", usando Big Endian\n",
    "dt = np.dtype('>H')\n",
    "print('Unsigned Short con Big Endian: ', dt)"
   ]
  },
  {
   "cell_type": "markdown",
   "metadata": {},
   "source": [
    "\n",
    "# 3. Más información:\n",
    "\n",
    "Se puede visitar las siguientes webs para más información sobre funcionalidades de la biblioteca NumPy:\n",
    "\n",
    " - Información avanzada sobre tipos de datos y creación de tipos de datos: https://docs.scipy.org/doc/numpy/reference/arrays.dtypes.html\n",
    " \n",
    " - Información básica sobre Numpy: https://cs231n.github.io/python-numpy-tutorial/\n",
    " \n",
    " - Información básica complementaria sobre Numpy: https://docs.scipy.org/doc/numpy/user/quickstart.html\n",
    " \n",
    " - Manipulación de arrays en Numpy: https://docs.scipy.org/doc/numpy/reference/routines.array-manipulation.html\n",
    " \n",
    " - Operaciones matemáticas en Numpy: https://docs.scipy.org/doc/numpy/reference/routines.math.html"
   ]
  }
 ],
 "metadata": {
  "kernelspec": {
   "display_name": "Python 3",
   "language": "python",
   "name": "python3"
  },
  "language_info": {
   "codemirror_mode": {
    "name": "ipython",
    "version": 3
   },
   "file_extension": ".py",
   "mimetype": "text/x-python",
   "name": "python",
   "nbconvert_exporter": "python",
   "pygments_lexer": "ipython3",
   "version": "3.8.2"
  }
 },
 "nbformat": 4,
 "nbformat_minor": 4
}
