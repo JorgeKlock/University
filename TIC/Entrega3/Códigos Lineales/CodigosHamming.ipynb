{
 "cells": [
  {
   "cell_type": "markdown",
   "metadata": {},
   "source": [
    "# Teoría de la Información y la Codificación\n",
    "## Tarea: Códigos de Hamming\n",
    "\n",
    "\n",
    "# Autor: \n",
    "\n",
    "Rellene la siguiente información:\n",
    "\n",
    " - Estudiante (nombre y apellidos): Jorge Gangoso Klöck\n",
    " - DNI/NIE/Pasaporte: 49398653N\n",
    " - Grupo: 1\n",
    " - Curso académico: 2021-2022\n",
    "\n",
    "\n",
    "\n",
    "__Yo, como estudiante de la asignatura, aseguro que la elaboración de estos ejercicios ha sido realizada de forma individual, sin incurrir en copias parciales o totales de código fuente o documentación, y acepto las repercusiones que conllevaría si esto no fuese así.__\n"
   ]
  },
  {
   "cell_type": "markdown",
   "metadata": {},
   "source": [
    "# Respuestas a las cuestiones teóricas:\n",
    "\n",
    "## Códigos de Hamming\n",
    "### Definición\n",
    "\n",
    "Los códigos de Hamming son una subcategoría dentro de los códigos lineales (Por lo que también es de longitud uniforme) y se define como un código detector y corrector de errores.\n",
    "La característica que debe tener un código lineal para ser considerado código de Hamming es que éstos se construyen añadiendo bits de paridad en las posiciones $2^n$ del mensaje original, que se construyen sobre el campo de galois $GF(2)$ y que estos bits de paridad se calculan utilizando subconjuntos del mensaje original que sean linealmente independientes.\n",
    "\n",
    "\n",
    "### Codificación y decodificación\n",
    "\n",
    "Para codificar un mensaje utilizando un código de Hamming, añadimos los r bits de paridad necesarios que los calcularemos como $2^r-r-1 >= k$. Como se ha mencionado anteriormente estos bits de paridad se colocarán en posiciones que sean potencias de 2 y su valor será el necesario para mantener la paridad par dentro de un conjunto de elementos del mensaje original. Para ello tomamos los elementos del mensaje que se van a comprobar su paridad y se realiza una función \"xor\" o una suma módulo 2 que viene a tener el mismo resultado en $GF(2)$.\n",
    "Los elementos que deben tomarse son todos los elementos de forma alterna en rachas de P, donde P es la posición del bit de paridad, es decir, el bit de paridad que se coloca en la posición 4, se calcula utilizando los elementos (a partir de él mismo) tomando 4 elementos sí, 4 elementos no, sucesivamente hasta terminar el mensaje.\n",
    "\n",
    "Para decodificar cualquiera de estos mensajes es sencillo ver que lo único que alteramos del mensaje original es añadirle bits de paridad, por tanto basta con quitarlos del mensaje codificado para recuperar el mensaje original.\n",
    "\n",
    "\n",
    "### Corrección de errores y distancia\n",
    "\n",
    "Los códigos de Hamming aseguran detección y correción en errores de 1 bit y detección en errores de 2 bits (sin capacidad de corrección). \n",
    "El motivo de estos valores es que se parte de un código uniforme con Distancia(Código) = 1 por estar tratando con códigos uniformes y eso nos indica que el código por sí mismo no es capaz de detectar o corregir ningún error ya que como sabemos por el Teorema de Hamming necesitamos una distancia de $r + 1$ para detectar $r$ errores y de $2*r + 1$ para corregirlos.\n",
    "Por ello la codificación de Hamming lo que provoca es ampliar la distancia del código en dos de forma que $D(C) = 3$.\n",
    "Esto nos permite detectar $3 = p + 1$ errores, donde $p = 2$.\n",
    "Y corregir $3 = 2p + 1$ errores, donde $p = 1$.\n",
    "\n",
    "La corrección de errores, cuando se detectan correctamente, es instantánea, ya que el propio síndrome del comprobador se corresponde con la posición en binario del bit afectado. Sin embargo hemos comprobado como la corrección de errores cuando hay 2 errores no funciona correctamente, ya que el síndrome nos indica una posición y hay dos errores, con lo que en cualquier caso nunca recuperaríamos el mensaje original. Hay una forma de avisar al sistema comprobador de que hay una cantidad par de errores que es añadir un bit más de paridad que comprueba la paridad total del bloque, de esta forma si hay errores de paridad, pero el bit de paridad global es correcto, sabemos que hay una cantidad par mayor que 0 de errores, y por tanto, lo mejor es directamente descartar el mensaje y no intentar corregirlo."
   ]
  },
  {
   "cell_type": "code",
   "execution_count": 59,
   "metadata": {},
   "outputs": [],
   "source": [
    "\n",
    "#imports\n",
    "import numpy as np\n",
    "import operator as op\n"
   ]
  },
  {
   "cell_type": "code",
   "execution_count": 60,
   "metadata": {},
   "outputs": [],
   "source": [
    "\n",
    "# Declaración de constantes a usar \n",
    "\n",
    "# p debe ser 4 para asegurar corregir errores de 1 bit en mensajes de 2^4-4-1 bits (11), con 3 sólo podríamos codificar\n",
    "# mensajes de 4 bits.\n",
    "\n",
    "r = 4;\n",
    "\n",
    "# Longitud del código uniforme de codificación de la fuente (k)\n",
    "\n",
    "k = 8; #Se necesitan 8 bits para codificar 256 caracteres.\n",
    "\n",
    "# Longitud del código de bloque (n)\n",
    "\n",
    "\n",
    "n = k + r; # n = 12;\n",
    "#Tendremos un código de Hamming (12,8)"
   ]
  },
  {
   "cell_type": "code",
   "execution_count": 61,
   "metadata": {},
   "outputs": [],
   "source": [
    "\n",
    "\n",
    "# Generación aleatoria de una palabra de k bits\n",
    "# Función que tiene como entrada k, la longitud de un código, y genera\n",
    "# una palabra de un código de longitud k sobre GF(2)\n",
    "def GenerarPalabraAleatoria(k):\n",
    "    palabra= np.random.randint(0, 2, k)\n",
    "    return palabra\n",
    "\n",
    "\n",
    "# Función que tiene como entrada una palabra de un código sobre GF(2) y genera un error de 1 bit en dicha palabra\n",
    "def InsertarError1bit(palabra):\n",
    "    pos= np.random.randint(0, len(palabra))\n",
    "    palabra[pos]= 1-palabra[pos]\n",
    "\n",
    "    \n",
    "# Función que tiene como entrada una palabra de un código sobre GF(2) y genera un error de 2 bits en dicha palabra\n",
    "def InsertarError2bits(palabra):\n",
    "    pos1= np.random.randint(0, len(palabra))\n",
    "    palabra[pos1]= 1-palabra[pos1]\n",
    "    pos2= np.random.randint(0, len(palabra))\n",
    "    while (pos1 == pos2):\n",
    "        pos2= np.random.randint(0, len(palabra))\n",
    "    palabra[pos2]= 1-palabra[pos2]\n",
    "\n"
   ]
  },
  {
   "cell_type": "code",
   "execution_count": 62,
   "metadata": {
    "scrolled": true
   },
   "outputs": [],
   "source": [
    "\n",
    "# Función CalcularMatrizM que tiene como entrada:\n",
    "#  - k: la dimensión del código (2^k mensajes posibles a codificar)\n",
    "#  - n: la longitud del código de bloque\n",
    "# Da como salida una matriz de codificación de un código de Hamming (n,k)\n",
    "\n",
    "def CalcularMatrizM (n, k):\n",
    "    r = n-k;\n",
    "    parity = np.ones(r).astype(int);\n",
    "    parity[0] = 1;\n",
    "    for x in range(1,len(parity)):\n",
    "        parity[x] = 2*parity[x-1];\n",
    "\n",
    "    #Creamos check_bit, una especie de máscara que nos dirá para cada bit de paridad, que elementos de X debemos observar\n",
    "    check_bit = np.full((r,n),0, int);\n",
    "    for j in range(len(parity)):\n",
    "        for i in range(parity[j], parity[j]*2):\n",
    "            check_bit[j][i-1::2*parity[j]] = 1;\n",
    "    #Ahora quitamos del check bit las columnas que se corresponden con valores de paridad (identidad)\n",
    "    indexes = [];\n",
    "    for x in range(len(parity)):\n",
    "        indexes = np.append(indexes, parity[x]-1);\n",
    "    indexes = indexes.astype(int);\n",
    "\n",
    "    #Eliminamos dichas columnas y volteamos la matriz para que quede con los bits menos significativos al final\n",
    "    check_bit = np.delete(check_bit, indexes, axis=1);  \n",
    "    check_bit = np.flip(check_bit).T;\n",
    "    check_bit = np.flip(check_bit, axis = 1);\n",
    "\n",
    "    M = np.identity(k).astype(int);\n",
    "    for i in range(len(parity)):\n",
    "        pos = len(M[0])-(parity[i]-1);\n",
    "        M = np.insert(M, pos, check_bit[:,i], axis=1);\n",
    "    return M;\n"
   ]
  },
  {
   "cell_type": "code",
   "execution_count": 63,
   "metadata": {
    "scrolled": true
   },
   "outputs": [],
   "source": [
    "\n",
    "# Función CalcularMatrizH que tiene como entrada:\n",
    "#  - k: la dimensión del código (2^k mensajes posibles a codificar)\n",
    "#  - n: la longitud del código de bloque\n",
    "# Da como salida la matriz de comprobación de errores (H) del código de Hamming (n,k)\n",
    "\n",
    "def CalcularMatrizH (n, k):\n",
    "    r = n - k;\n",
    "    n_fil = n;\n",
    "    parity = np.ones(r).astype(int);\n",
    "    parity[0] = 1;\n",
    "    for x in range(1,len(parity)):\n",
    "        parity[x] = 2*parity[x-1];\n",
    "\n",
    "    #Creamos la matriz con las filas y columnas traspuestas para rellenarla por filas\n",
    "    H = np.full((r, n_fil), 0, int);\n",
    "    for i in range (r):\n",
    "        for j in range (parity[i]-1,parity[i]*2-1):  \n",
    "            H[i][j::parity[i]*2] = 1; \n",
    "    H = np.flip(H);\n",
    "    #La trasponemos para tener la matriz H\n",
    "    H = H.T;\n",
    "    return H;"
   ]
  },
  {
   "cell_type": "code",
   "execution_count": 64,
   "metadata": {},
   "outputs": [],
   "source": [
    "\n",
    "# Función Codificar que tiene como entrada:\n",
    "#  - Palabra: Una palabra de longitud k sobre GF(2) a codificar\n",
    "#  - M: La matriz de codificación del código de Hamming\n",
    "# Devuelve como salida la palabra del código de bloque de codificar la palabra de entrada en el código de Hamming\n",
    "\n",
    "def Codificar (palabra, M):\n",
    "    word = np.matmul(palabra, M);\n",
    "    word = word%2;\n",
    "    return word;\n"
   ]
  },
  {
   "cell_type": "code",
   "execution_count": 65,
   "metadata": {},
   "outputs": [],
   "source": [
    "\n",
    "# Función Decodificar que tiene como entrada:\n",
    "#  - Palabra: Una palabra de longitud n sobre GF(2) a decodificar\n",
    "#  - M: La matriz de codificación del código de Hamming\n",
    "# Devuelve como salida la palabra del código uniforme original decodificada\n",
    "\n",
    "def Decodificar (palabra_codificada, M):\n",
    "    [k, n] = M.shape\n",
    "    r = n-k;\n",
    "    parity = np.ones(r).astype(int);\n",
    "    for x in range(1,len(parity)):\n",
    "        parity[x] = 2*parity[x-1];\n",
    "    parity = parity - 1;\n",
    "    palabra_codificada = np.flip(palabra_codificada);\n",
    "    palabra_codificada = np.delete(palabra_codificada, parity);\n",
    "    palabra_codificada = np.flip(palabra_codificada);\n",
    "    return palabra_codificada;\n"
   ]
  },
  {
   "cell_type": "code",
   "execution_count": 66,
   "metadata": {},
   "outputs": [],
   "source": [
    "\n",
    "# Función CalcularSindrome: Calcula el síndrome de una palabra del código de bloque de Hamming dada\n",
    "# Se tiene como entrada:\n",
    "#  - Palabra: La palabra del código de bloque de la que se desea recibir el síndrome.\n",
    "#  - H: La matriz de comprobación de errores del código de hamming\n",
    "# Como salida, se devuelve el síndrome asociado a la palabra de entrada\n",
    "\n",
    "def CalcularSindrome (palabra, H):\n",
    "    sindrome = np.matmul(palabra,H);\n",
    "    return sindrome%2;"
   ]
  },
  {
   "cell_type": "code",
   "execution_count": 67,
   "metadata": {},
   "outputs": [],
   "source": [
    "\n",
    "# Función CorregirError: Calcula el error asociado a una palabra dada, y lo corrige\n",
    "# Se tiene como entrada:\n",
    "#  - Palabra: La palabra del código de bloque que se desea corregir\n",
    "#  - Sindrome: El síndrome asociado a la palabra\n",
    "# Como salida, se devuelve el la palabra corregida, en caso de que hubiese error-\n",
    "\n",
    "def CorregirError (palabra, sindrome):\n",
    "    posicion = ''.join(map(str,sindrome));\n",
    "    posicion = int(posicion,2)-1;\n",
    "    if posicion >= 0:\n",
    "        palabra = np.flip(palabra);\n",
    "        palabra[posicion] = (palabra[posicion]+1)%2;\n",
    "        palabra = np.flip(palabra);\n",
    "    return palabra;\n"
   ]
  },
  {
   "cell_type": "code",
   "execution_count": 73,
   "metadata": {},
   "outputs": [
    {
     "name": "stdout",
     "output_type": "stream",
     "text": [
      "## COMPARACION DEL MENSAJE CODIFICADO CON EL CORREGIDO ##\n",
      "palabra codificada:\t  [1 0 1 0 0 0 0 1 0 1 0 0]\n",
      "palabra corregida:\t  [1 0 1 0 0 0 0 1 0 1 0 0]\n",
      "sindrome:\t\t  [0 0 0 0]\n",
      "## COMPARACION DEL MENSAJE DECODIFICADO CON EL ORIGINAL ##\n",
      "palabra original:\t  [1 0 1 0 0 0 1 1]\n",
      "palabra decodificada:\t  [1 0 1 0 0 0 1 1]\n"
     ]
    }
   ],
   "source": [
    "# EJEMPLO 1\n",
    "\n",
    "# Ejemplos de prueba de envío sin errores\n",
    "\n",
    "# Generar mensaje a enviar\n",
    "palabra = GenerarPalabraAleatoria(k);\n",
    "# Codificación en código de bloque\n",
    "M = CalcularMatrizM(n, k);\n",
    "coded_word = Codificar (palabra, M);\n",
    "# Cálculo del error y corrección\n",
    "H = CalcularMatrizH(n, k);\n",
    "sindrome = CalcularSindrome(coded_word, H);\n",
    "palabra_corregida = CorregirError(coded_word, sindrome);\n",
    "# Comprobación con el mensaje del código de bloque enviado por el canal\n",
    "print(\"## COMPARACION DEL MENSAJE CODIFICADO CON EL CORREGIDO ##\");\n",
    "print(\"palabra codificada:\\t \", coded_word);\n",
    "print(\"palabra corregida:\\t \", palabra_corregida);\n",
    "print(\"sindrome:\\t\\t \", sindrome);\n",
    "# Decodificación.\n",
    "palabra_decodificada = Decodificar (palabra_corregida, M);\n",
    "# Comparación con el mensaje del código uniforme generado por la fuente\n",
    "print(\"## COMPARACION DEL MENSAJE DECODIFICADO CON EL ORIGINAL ##\");\n",
    "print(\"palabra original:\\t \", palabra);\n",
    "print(\"palabra decodificada:\\t \", palabra_decodificada);"
   ]
  },
  {
   "cell_type": "code",
   "execution_count": 76,
   "metadata": {},
   "outputs": [
    {
     "name": "stdout",
     "output_type": "stream",
     "text": [
      "## COMPARACION DEL MENSAJE CODIFICADO CON EL CORREGIDO ##\n",
      "palabra codificada original:\t  [1 1 0 0 0 1 0 0 0 1 1 1]\n",
      "palabra erronea:\t\t  [1 1 1 0 0 1 0 0 0 1 1 1]\n",
      "palabra corregida:\t\t  [1 1 0 0 0 1 0 0 0 1 1 1]\n",
      "sindrome:\t\t\t  [1 0 1 0]\n",
      "## COMPARACION DEL MENSAJE DECODIFICADO CON EL ORIGINAL ##\n",
      "palabra original:\t  [1 1 0 0 1 0 0 1]\n",
      "palabra decodificada:\t  [1 1 0 0 1 0 0 1]\n"
     ]
    }
   ],
   "source": [
    "\n",
    "# EJEMPLO 2\n",
    "\n",
    "# Ejemplos de prueba de envío con error en 1 bit\n",
    "\n",
    "# Generar mensaje a enviar\n",
    "palabra = GenerarPalabraAleatoria(k);\n",
    "# Codificación en código de bloque\n",
    "M = CalcularMatrizM(n, k);\n",
    "coded_word = Codificar (palabra, M);\n",
    "coded_word_original = coded_word.copy();\n",
    "# Inserción de un error de 1 bit\n",
    "InsertarError1bit(coded_word);\n",
    "palabra_erronea = coded_word.copy();\n",
    "# Cálculo del error y corrección\n",
    "H = CalcularMatrizH(n, k);\n",
    "sindrome = CalcularSindrome(coded_word, H);\n",
    "palabra_corregida = CorregirError(coded_word, sindrome);\n",
    "# Comprobación con el mensaje del código de bloque enviado por el canal\n",
    "print(\"## COMPARACION DEL MENSAJE CODIFICADO CON EL CORREGIDO ##\");\n",
    "print(\"palabra codificada original:\\t \", coded_word_original);\n",
    "print(\"palabra erronea:\\t\\t \", palabra_erronea);\n",
    "print(\"palabra corregida:\\t\\t \", palabra_corregida);\n",
    "print(\"sindrome:\\t\\t\\t \", sindrome);\n",
    "# Decodificación.\n",
    "palabra_decodificada = Decodificar (palabra_corregida, M);\n",
    "# Comparación con el mensaje del código uniforme generado por la fuente\n",
    "print(\"## COMPARACION DEL MENSAJE DECODIFICADO CON EL ORIGINAL ##\");\n",
    "print(\"palabra original:\\t \", palabra);\n",
    "print(\"palabra decodificada:\\t \", palabra_decodificada);"
   ]
  },
  {
   "cell_type": "code",
   "execution_count": 75,
   "metadata": {},
   "outputs": [
    {
     "name": "stdout",
     "output_type": "stream",
     "text": [
      "## COMPARACION DEL MENSAJE CODIFICADO CON EL CORREGIDO ##\n",
      "palabra codificada original:\t  [1 0 0 0 1 1 0 0 0 1 0 0]\n",
      "palabra erronea:\t\t  [1 0 1 0 1 1 0 0 0 0 0 0]\n",
      "palabra corregida:\t\t  [1 0 1 1 1 1 0 0 0 0 0 0]\n",
      "sindrome:\t\t\t  [1 0 0 1]\n",
      "## COMPARACION DEL MENSAJE DECODIFICADO CON EL ORIGINAL ##\n",
      "palabra original:\t  [1 0 0 0 1 0 0 1]\n",
      "palabra decodificada:\t  [1 0 1 1 1 0 0 0]\n"
     ]
    }
   ],
   "source": [
    "\n",
    "# EJEMPLO 3\n",
    "\n",
    "# Ejemplos de prueba de envío con errores en 2 bits\n",
    "\n",
    "# Generar mensaje a enviar\n",
    "palabra = GenerarPalabraAleatoria(k);\n",
    "# Codificación en código de bloque\n",
    "M = CalcularMatrizM(n, k);\n",
    "coded_word = Codificar (palabra, M);\n",
    "coded_word_original = coded_word.copy();\n",
    "# Inserción de un error de 1 bit\n",
    "InsertarError2bits(coded_word);\n",
    "palabra_erronea = coded_word.copy();\n",
    "# Cálculo del error y corrección\n",
    "H = CalcularMatrizH(n, k);\n",
    "sindrome = CalcularSindrome(coded_word, H);\n",
    "palabra_corregida = CorregirError(coded_word, sindrome);\n",
    "# Comprobación con el mensaje del código de bloque enviado por el canal\n",
    "print(\"## COMPARACION DEL MENSAJE CODIFICADO CON EL CORREGIDO ##\");\n",
    "print(\"palabra codificada original:\\t \", coded_word_original);\n",
    "print(\"palabra erronea:\\t\\t \", palabra_erronea);\n",
    "print(\"palabra corregida:\\t\\t \", palabra_corregida);\n",
    "print(\"sindrome:\\t\\t\\t \", sindrome);\n",
    "# Decodificación.\n",
    "palabra_decodificada = Decodificar (palabra_corregida, M);\n",
    "# Comparación con el mensaje del código uniforme generado por la fuente\n",
    "print(\"## COMPARACION DEL MENSAJE DECODIFICADO CON EL ORIGINAL ##\");\n",
    "print(\"palabra original:\\t \", palabra);\n",
    "print(\"palabra decodificada:\\t \", palabra_decodificada);"
   ]
  },
  {
   "cell_type": "code",
   "execution_count": null,
   "metadata": {},
   "outputs": [],
   "source": []
  },
  {
   "cell_type": "code",
   "execution_count": null,
   "metadata": {},
   "outputs": [],
   "source": []
  },
  {
   "cell_type": "code",
   "execution_count": null,
   "metadata": {},
   "outputs": [],
   "source": []
  }
 ],
 "metadata": {
  "kernelspec": {
   "display_name": "Python 3",
   "language": "python",
   "name": "python3"
  },
  "language_info": {
   "codemirror_mode": {
    "name": "ipython",
    "version": 3
   },
   "file_extension": ".py",
   "mimetype": "text/x-python",
   "name": "python",
   "nbconvert_exporter": "python",
   "pygments_lexer": "ipython3",
   "version": "3.8.5"
  }
 },
 "nbformat": 4,
 "nbformat_minor": 4
}
