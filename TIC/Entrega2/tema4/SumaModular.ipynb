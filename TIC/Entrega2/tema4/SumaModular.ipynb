{
 "cells": [
  {
   "cell_type": "markdown",
   "metadata": {},
   "source": [
    "# Teoría de la Información y la Codificación\n",
    "## Tarea: Códigos para detección de errores\n",
    "\n",
    "\n",
    "# Autor: \n",
    "\n",
    "Rellene la siguiente información:\n",
    "\n",
    " - Estudiante (nombre y apellidos): Jorge Gangoso Klöck\n",
    " - DNI/NIE/Pasaporte: 49398653N\n",
    " - Grupo: 1\n",
    " - Curso académico: 2021-2022\n",
    "\n",
    "\n",
    "\n",
    "__Yo, como estudiante de la asignatura, aseguro que la elaboración de estos ejercicios ha sido realizada de forma individual, sin incurrir en copias parciales o totales de código fuente o documentación, y acepto las repercusiones que conllevaría si esto no fuese así.__\n"
   ]
  },
  {
   "cell_type": "markdown",
   "metadata": {},
   "source": [
    "# Respuestas a las cuestiones teóricas:\n",
    "\n",
    "\n",
    "## Definición de Códigos de Bloque\n",
    "\n",
    "Los códigos de bloque son una manera de aumentar la Distancia del Código para así permitir detección de errores de acuerdo al segundo Teorema de Shannon.\n",
    "\n",
    "La forma de realizar ésto es coger un conjunto de mensajes que deseamos enviar y concatenarle un mensaje más que será redundante (no proporcionará información adicional) si no que estará calculado a partir de información ya presente en los otros mensajes. De esta manera si la información que nos proporciona la redunancia sobre los mensajes enviados se contradice con los propios mensajes seremos capaces de detectar que ha habido un error y, en ocasiones, incluso corregirlo.\n",
    "\n",
    "Por tanto partimos de un mensaje con \"k\" bits a los cuales les añadimos \"r\" bits de redundancia mediante un sistema de cálculo aritmético sencillo. Esta tarea la realiza el Generador y da lugar a una palabra codificada de \"n\" bits siendo $n = k + r$\n",
    "Nuestra palabra codificada se envía y es recibida por el decodificador del receptor, el cual calcula a partir de los \"n\" bits lo que se conoce como síndrome. Un valor que indicará al propio decodificador si el mensaje es correcto o no. Esta tarea es realizada por el Comprobador.\n",
    "\n",
    "Finalmente, basándonos en el resultado obtenido como síndrome determinaremos si quedarnos con los \"k\" bits del mensaje que formaban nuestra palabra inicialmente, o si la palabra recibida contiene error y debemos descartar o tratar de localizar y corregir el error.\n",
    "\n",
    "## Fundamentos de los Algoritmos de Suma Modular\n",
    "\n",
    "En esencia los Algoritmos de Suma Modular son algoritmos que emplean un subtipo de Códigos de Bloque en el que tanto los \"r\" bits de redundancia como la comprobación realizada por el checker consisten en una suma dentro de un sistema algebráico conocido como anillo entre los cuales se suelen emplear algunos como $\\mathbb{Z}_{2}$, $\\mathbb{Z}_{10}$ o $\\mathbb{Z}_{p}:p\\in \\mathbb{P}$.\n",
    "\n",
    "Dentro de estos anillos la Suma es llamada Suma Modular ya que si el resultado de la suma excede los elementos pertenecientes al anillo se debe hacer el resultado módulo el número de elementos del anillo.\n",
    "\n",
    "Por tanto el Generador realiza la suma de los distintos mensajes que forman el bloque en modulo \"b\" (La base del anillo) y tras esto realiza el complemento a \"b\" del número. Este número calculado de \"r\" bits se manda junto con la trama original y conforman el bloque.\n",
    "\n",
    "El Comprobador en principio solo tiene que sumar los mensajes de la trama y ya que el complemento a \"b\" de un número se define como el número que le falta a otro para alcanzar un múltiplo de \"b\", al sumarselo a los \"k\" bits iniciales el resultado debe dar exactamente 0.\n",
    "\n",
    "## DNIs\n",
    "\n",
    "### Codificación\n",
    "\n",
    "El sistema de codificación de los DNI es bastante sencillo, consiste en considerar las cifras un único número de 8 digitos y calcularle el módulo 10. Dependiendo del valor de módulo se le asigna una letra de acuerdo a una tabla que está inicializada más adelante en la sección de constantes.\n",
    "\n",
    "El valor de la letra es irrelevante ya que es intercambiable con el número del módulo en cualquier momento al tratarse de una aplicación biyectiva de las letras {a-z excepto i,o,ñ,u} en {0..22}, por tanto ignoraremos el hecho de que se le asigna una letra y consideraremos sólamente el valor númerico asociado para simplificar la explicación.\n",
    "\n",
    "En este punto el código ya está finalizado, sin embargo si comparamos con el procedimiento habitual de los Algoritmos de Suma Modular, no hemos realizado el complemento a \"b\" del valor de control, por lo que esto deberá ser tenido en cuenta a la hora de detectar errores, no podremos sencillamente realizar la suma y comparar con 0.\n",
    "\n",
    "### Detección de Errores\n",
    "\n",
    "A la hora de detectar errores en una codificación de DNI debemos tener en cuenta lo mencionado anteriormente, para poder calcular el síndrome de la manera habitual (sumar y comparar con 0) el valor de control debe estar en complemento a \"b\" (b en nuestro caso es 23 ya que tenemos 23 posibles letras o dígitos de control).\n",
    "\n",
    "Es por esto que la detección se divide en dos partes:\n",
    "\n",
    "1. Realizar el complemento a 23 del valor de control.\n",
    "2. Hacer la suma para obtener el síndrome y comparar con 0 para determinar si hay errores.\n",
    "\n",
    "### Código de Bloque\n",
    "\n",
    "Podemos hablar de un bloque compuesto de dos mensajes cuando tratamos con el DNI, el primer mensaje es el compuesto por un número de 8 cifras, el segundo bloque, concatenado a éste, es una letra que representa un número de $\\mathbb{Z}_{23}$.\n",
    "\n",
    "No tiene sentido considerar cada cifra como un bloque separado porque no se están sumando las cifras de forma individual, además si realizaramos esa suma de cifras individualmente y al resultado le hicieramos el complemento a 2 nos dejaría sólo $2^4 = 16$ valores posibles para el digito de control, lo cual no cubre las 23 opciones de que disponemos.\n",
    "\n",
    "## Cuentas Bancarias\n",
    "\n",
    "### Codificación\n",
    "\n",
    "La codificación de los números de cuenta bancarios es algo más enrevesado pero sigue la misma politica. Al número original se le realiza una transformación aritmética básica: \n",
    "1. Se multiplican las cifras impares por 2, si el resultado es menor que 10 se mantiene si supera sumamos los valores de sus cifras y tomamos ese valor\n",
    "2. Se suman las cifras pares a los valores calculados con las impares\n",
    "3. Se hace módulo 10\n",
    "4. Se hace 10-valor_calculado\n",
    "\n",
    "Hay dos detalles importantes en este procedimiento. El primero es que el valor obtenido tras hacer las transformaciones 1 y 2 puede interpretarse como si fuera la suma normal de los mensajes que conforman el bloque del código, sólo que sobre algunos mensajes se realizan ponderaciones adicionales, esto se debe tener en cuenta posteriormente en la detencción. El segundo, que los pasos 3 y 4 consisten simplemente en realizar el complemento a 10 del valor calculado en los pasos 1 y 2. En este ejemplo sí se sigue el procedimiento habitual para crear los \"r\" bits de redundancia pero se modifica ligeramente la suma de las componentes del bloque\n",
    "\n",
    "### Detección de Errores\n",
    "\n",
    "Teniendo en cuenta los detalles mencionados en el apartado de codificación, sabemos que los bits de redundancia ya conforman el complemento a 10 de un número, por tanto al hacer la suma de ese número más los \"r\" bits de redundancia obtendremos el síndrome.\n",
    "\n",
    "Sólo debemos tener cuidado de percatarnos que el complemento a 10 se realiza sobre el valor obtenido tras los pasos 1 y 2, y no sobre el número original. Por tanto, el Comprobador deberá realizar la misma transformación aritmética, hacer la suma modular con el dígito de control y obtendremos así el síndrome.\n",
    "\n",
    "### Código de Bloque\n",
    "\n",
    "Puede haberse deducido ya de los apartados anteriores pero en este caso el bloque sí está conformado por los diferentes dígitos del número de cuenta bancaria. Cada uno de estos números será sumado por el codificador (junto con la ponderación correspondiente mencionada en el apartado de codificación) a fin de obtener el valor de control llamado checksum en este caso."
   ]
  },
  {
   "cell_type": "code",
   "execution_count": 1,
   "metadata": {},
   "outputs": [],
   "source": [
    "\n",
    "#imports\n",
    "import numpy as np\n",
    "\n"
   ]
  },
  {
   "cell_type": "code",
   "execution_count": 2,
   "metadata": {},
   "outputs": [],
   "source": [
    "\n",
    "# Declaración de constantes a usar ( en caso de ser necesario )\n",
    "diccionario_letra ={0:'T', 1:'R', 2:'W', 3:'A', 4:'G', 5:'M', 6:'Y', 7:'F', 8:'P', 9:'D', 10:'X', 11:'B', 12:'N',\n",
    "                    13:'J', 14:'Z', 15:'S', 16:'Q', 17:'V', 18:'H', 19:'L', 20:'C', 21:'K', 22:'E'}\n",
    "\n",
    "def ComplementoAN (numero, n):\n",
    "    return n-(numero%n)"
   ]
  },
  {
   "cell_type": "code",
   "execution_count": 3,
   "metadata": {},
   "outputs": [],
   "source": [
    "\n",
    "# Función que tiene como entrada una cadena con los 8 dígitos del DNI, y \n",
    "# proporciona como salida una cadena con 9 símbolos (el código de bloque del DNI),\n",
    "# en formato \"12345678A\"\n",
    "\n",
    "def CodificaDni (cadena):\n",
    "    control = diccionario_letra[int(cadena)%23]\n",
    "    solucion = cadena + control\n",
    "    return solucion"
   ]
  },
  {
   "cell_type": "code",
   "execution_count": 4,
   "metadata": {},
   "outputs": [],
   "source": [
    "\n",
    "# Función que tiene como entrada una cadena con 9 símbolos del DNI en formato \"12345678A\"\n",
    "# y devuelve si el DNI es correcto o no\n",
    "def ComplementoA23 (numero):\n",
    "    return 23-(numero%23)\n",
    "\n",
    "def ObtieneClave (letra):\n",
    "    for key, value in diccionario_letra.items():\n",
    "        if(value == letra):\n",
    "            return key\n",
    "    return -1\n",
    "    \n",
    "def CompruebaDni (cadena):\n",
    "    #La letra se obtiene como el módulo del número del DNI entre 23, por tanto si hacemos el complemento a 23 de este número\n",
    "    #obtenemos lo que le falta al número para llegar a un múltiplo de 23\n",
    "    letra = cadena[-1]\n",
    "    numero = int(cadena[0:len(cadena)-1])\n",
    "    valor_letra = ComplementoA23(ObtieneClave(letra))\n",
    "    sindrome = (numero + valor_letra)%23\n",
    "    if(sindrome == 0):\n",
    "        return True\n",
    "    else:\n",
    "        return sindrome\n",
    "    "
   ]
  },
  {
   "cell_type": "code",
   "execution_count": 5,
   "metadata": {},
   "outputs": [],
   "source": [
    "\n",
    "# Función que tiene como entrada una cadena con los 15 dígitos del número de una tarjeta bancaria\n",
    "# en formato \"123456789012345\", y devuelve una cadena con 16 dígitos, el código de bloque del número de tarjeta\n",
    "def SumaImpares2 (numero):\n",
    "    digitos = list(numero)\n",
    "    solucion = 0\n",
    "    for i in range (len(digitos)):\n",
    "        digito = int(digitos[i])\n",
    "        #Puesto que range va de 0 a n-1, los pares son realmente los que dan resto 1\n",
    "        if(i%2 == 1):\n",
    "            solucion += digito\n",
    "        else:\n",
    "            doble = 2*digito\n",
    "            if(doble >= 10):\n",
    "                #Añadimos la suma del primer las decenas + las unidades\n",
    "                solucion += (doble//10)+(doble%10)\n",
    "            else:\n",
    "                solucion += doble\n",
    "    return solucion\n",
    "\n",
    "def CodificaCuentaBancaria (cadena):\n",
    "    checksum = 10-(SumaImpares2(cadena)%10)\n",
    "    solucion = cadena + str(checksum)\n",
    "    return solucion"
   ]
  },
  {
   "cell_type": "code",
   "execution_count": 6,
   "metadata": {},
   "outputs": [],
   "source": [
    "\n",
    "# Función que tiene como entrada una cadena con 16 símbolos del código de bloque de una tarjeta bancaria\n",
    "# en formato \"1234567812345678\" y devuelva si el número de la tarjeta es válido o no.\n",
    "\n",
    "def CompruebaCuentaBancaria (cadena):\n",
    "    #El checksum se calculó como el complemento a 10 del cálculo aritmético con las cifras del IBAN\n",
    "    #Por tanto si le sumamos un numero + su complemento a 10 en módulo 10 debería dar 0\n",
    "        #Si el sindrome es 0 es que el checksum efectivamente es el complemento a 10\n",
    "        #Si es distinto de 0 hay un error\n",
    "    checksum = int(cadena[-1])\n",
    "    sindrome = (SumaImpares2(cadena[0:len(cadena)-1])+checksum)%10\n",
    "    if(sindrome == 0):\n",
    "        return True\n",
    "    else:\n",
    "        return sindrome\n",
    "    "
   ]
  },
  {
   "cell_type": "code",
   "execution_count": 7,
   "metadata": {},
   "outputs": [
    {
     "name": "stdout",
     "output_type": "stream",
     "text": [
      "Codificación del DNI:  49398653N\n",
      "¿Es el DNI correcto?:  True\n",
      "¿Es el DNI correcto?:  18\n",
      "Codificación del IBAN:  5457623898234113\n",
      "¿Es el IBAN correcto?:  True\n",
      "¿Es el IBAN correcto?:  4\n"
     ]
    }
   ],
   "source": [
    "# Realización de pruebas variadas que muestren el funcionamiento de todas las funciones\n",
    "DNI = CodificaDni('49398653')\n",
    "print(\"Codificación del DNI: \", DNI)\n",
    "Comprobacion = CompruebaDni(DNI)\n",
    "print(\"¿Es el DNI correcto?: \", Comprobacion)\n",
    "#Cambiamos la letra por una incorrecta\n",
    "Comprobacion = CompruebaDni('49398653V')\n",
    "print(\"¿Es el DNI correcto?: \", Comprobacion)\n",
    "\n",
    "n_cuenta = \"545762389823411\"\n",
    "IBAN = CodificaCuentaBancaria(n_cuenta)\n",
    "print(\"Codificación del IBAN: \", IBAN)\n",
    "sindrome = CompruebaCuentaBancaria (IBAN)\n",
    "print(\"¿Es el IBAN correcto?: \", sindrome)\n",
    "#Cambiamos el checksum por uno incorrecto\n",
    "sindrome = CompruebaCuentaBancaria (\"5457623898234117\")\n",
    "print(\"¿Es el IBAN correcto?: \", sindrome)\n"
   ]
  },
  {
   "cell_type": "code",
   "execution_count": 8,
   "metadata": {},
   "outputs": [
    {
     "name": "stdout",
     "output_type": "stream",
     "text": [
      "Codificación del DNI:  71368057T\n",
      "¿Es el DNI correcto?:  True\n"
     ]
    }
   ],
   "source": [
    "DNI = CodificaDni('71368057')\n",
    "print(\"Codificación del DNI: \", DNI)\n",
    "Comprobacion = CompruebaDni(DNI)\n",
    "print(\"¿Es el DNI correcto?: \", Comprobacion)"
   ]
  }
 ],
 "metadata": {
  "kernelspec": {
   "display_name": "Python 3",
   "language": "python",
   "name": "python3"
  },
  "language_info": {
   "codemirror_mode": {
    "name": "ipython",
    "version": 3
   },
   "file_extension": ".py",
   "mimetype": "text/x-python",
   "name": "python",
   "nbconvert_exporter": "python",
   "pygments_lexer": "ipython3",
   "version": "3.8.5"
  }
 },
 "nbformat": 4,
 "nbformat_minor": 4
}
