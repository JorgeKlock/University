{
 "cells": [
  {
   "cell_type": "code",
   "execution_count": 76,
   "metadata": {},
   "outputs": [
    {
     "name": "stdout",
     "output_type": "stream",
     "text": [
      "55639241\n",
      "4728831\n",
      "['5', '4', '5', '7', '6', '2', '3', '8', '9', '8', '2', '3', '4', '1', '1']\n",
      "67\n"
     ]
    }
   ],
   "source": [
    "\n",
    "#imports\n",
    "import numpy as np\n",
    "\n",
    "cadena = \"545762389823411\"\n",
    "\n",
    "print(cadena[0:len(cadena):2])\n",
    "print(cadena[1:len(cadena):2])\n",
    "\n",
    "l_cadena = list(cadena)\n",
    "print(l_cadena)\n",
    "sumatoria = 0\n",
    "for i in range(len(l_cadena)):\n",
    "    \n",
    "    if(i%2 == 1):\n",
    "        sumatoria += int(l_cadena[i])\n",
    "    else:\n",
    "        a = int(l_cadena[i])*2\n",
    "        if(a >= 10):\n",
    "            sumatoria += (a//10)+(a%10)\n",
    "        else:\n",
    "            sumatoria += a\n",
    "print(sumatoria)\n",
    "            "
   ]
  },
  {
   "cell_type": "code",
   "execution_count": 61,
   "metadata": {},
   "outputs": [
    {
     "data": {
      "text/plain": [
       "2"
      ]
     },
     "execution_count": 61,
     "metadata": {},
     "output_type": "execute_result"
    }
   ],
   "source": [
    "(28//10)%10"
   ]
  },
  {
   "cell_type": "code",
   "execution_count": null,
   "metadata": {},
   "outputs": [],
   "source": []
  },
  {
   "cell_type": "code",
   "execution_count": null,
   "metadata": {},
   "outputs": [],
   "source": []
  }
 ],
 "metadata": {
  "kernelspec": {
   "display_name": "Python 3",
   "language": "python",
   "name": "python3"
  },
  "language_info": {
   "codemirror_mode": {
    "name": "ipython",
    "version": 3
   },
   "file_extension": ".py",
   "mimetype": "text/x-python",
   "name": "python",
   "nbconvert_exporter": "python",
   "pygments_lexer": "ipython3",
   "version": "3.8.5"
  }
 },
 "nbformat": 4,
 "nbformat_minor": 4
}
