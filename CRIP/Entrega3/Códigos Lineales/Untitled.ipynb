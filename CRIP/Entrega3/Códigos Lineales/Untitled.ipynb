{
 "cells": [
  {
   "cell_type": "code",
   "execution_count": 28,
   "metadata": {},
   "outputs": [
    {
     "data": {
      "text/plain": [
       "array([[1., 0., 0., 0., 1., 0., 0., 0., 1., 0., 0., 0.],\n",
       "       [0., 1., 0., 0., 1., 0., 0., 0., 0., 0., 1., 1.],\n",
       "       [0., 0., 1., 0., 1., 0., 0., 0., 0., 0., 1., 0.],\n",
       "       [0., 0., 0., 1., 1., 0., 0., 0., 0., 0., 0., 1.],\n",
       "       [0., 0., 0., 0., 0., 1., 0., 0., 1., 0., 1., 1.],\n",
       "       [0., 0., 0., 0., 0., 0., 1., 0., 1., 0., 1., 0.],\n",
       "       [0., 0., 0., 0., 0., 0., 0., 1., 1., 0., 0., 1.],\n",
       "       [0., 0., 0., 0., 0., 0., 0., 0., 0., 1., 1., 1.]])"
      ]
     },
     "execution_count": 28,
     "metadata": {},
     "output_type": "execute_result"
    }
   ],
   "source": [
    "#### import numpy as np\n",
    "M = np.identity(8);\n",
    "M;\n",
    "a = [0,0,0,0,0,0,0,0];\n",
    "\n",
    "c_p4 = [1, 1, 1, 1, 0, 0, 0, 0];\n",
    "c_p3 = [1, 0, 0, 0, 1, 1, 1, 0];\n",
    "c_p2 = [0, 1, 1, 0, 1, 1, 0, 1];\n",
    "c_p1 = [0, 1, 0, 1, 1, 0, 1, 1];\n",
    "\n",
    "M = np.insert(M, 4, c_p4, axis=1);\n",
    "M = np.insert(M, 8, c_p3, axis=1);\n",
    "M = np.insert(M, 10, c_p2, axis=1);\n",
    "M = np.insert(M, 11, c_p1, axis=1);\n",
    "M"
   ]
  },
  {
   "cell_type": "code",
   "execution_count": 59,
   "metadata": {},
   "outputs": [
    {
     "data": {
      "text/plain": [
       "array([[0., 0., 0., 0.],\n",
       "       [5., 0., 0., 0.],\n",
       "       [0., 0., 0., 0.],\n",
       "       [0., 0., 0., 0.]])"
      ]
     },
     "execution_count": 59,
     "metadata": {},
     "output_type": "execute_result"
    }
   ],
   "source": [
    "a = np.zeros((4,4));\n",
    "b = 4;\n",
    "\n",
    "a[b//4][b%4] = 5;\n",
    "a\n",
    "#1 = pos(1)+4,4,4\n",
    "#2 = pos(2)+4,4,4\n",
    "#4 = pos(4)+1,1,1\n",
    "#8 = pos(8)+1,1,1"
   ]
  },
  {
   "cell_type": "code",
   "execution_count": 198,
   "metadata": {},
   "outputs": [
    {
     "name": "stdout",
     "output_type": "stream",
     "text": [
      "columnas de paridad\n",
      " [[0 0 1 1]\n",
      " [1 1 0 1]\n",
      " [0 1 0 1]\n",
      " [1 0 0 1]\n",
      " [1 1 1 0]\n",
      " [0 1 1 0]\n",
      " [1 0 1 0]\n",
      " [1 1 0 0]]\n",
      "forma final de M\n",
      " [[1 0 0 0 1 0 0 0 1 0 0 0]\n",
      " [0 1 0 0 1 0 0 0 0 0 1 1]\n",
      " [0 0 1 0 1 0 0 0 0 0 1 0]\n",
      " [0 0 0 1 1 0 0 0 0 0 0 1]\n",
      " [0 0 0 0 0 1 0 0 1 0 1 1]\n",
      " [0 0 0 0 0 0 1 0 1 0 1 0]\n",
      " [0 0 0 0 0 0 0 1 1 0 0 1]\n",
      " [0 0 0 0 0 0 0 0 0 1 1 1]]\n"
     ]
    }
   ],
   "source": [
    "k = 8;\n",
    "n = 12;\n",
    "r = n-k;\n",
    "parity = np.ones(n-k).astype(int);\n",
    "parity[0] = 1;\n",
    "for x in range(1,len(parity)):\n",
    "    parity[x] = 2*parity[x-1];\n",
    "\n",
    "vector = np.ones(n);\n",
    "check_bit = np.full((r,n),0, int);\n",
    "for j in range(len(parity)):\n",
    "    for i in range(int(parity[j]), int(parity[j])*2):\n",
    "        check_bit[j][i-1::2*int(parity[j])] = 1;\n",
    "#Ahora quitamos del check bit las columnas que se corresponden con valores de paridad\n",
    "indexes = [];\n",
    "for x in range(len(parity)):\n",
    "    indexes = np.append(indexes, int(parity[x])-1);\n",
    "indexes = indexes.astype(int);\n",
    "\n",
    "check_bit = np.delete(check_bit, indexes, axis=1);  \n",
    "check_bit = np.flip(check_bit).T;\n",
    "check_bit = np.flip(check_bit, axis = 1);\n",
    "#Las columnas de paridad quedan así\n",
    "print(\"columnas de paridad\\n\", check_bit);\n",
    "\n",
    "M = np.identity(k).astype(int);\n",
    "for i in range(len(parity)):\n",
    "    pos = len(M[0])-(int(parity[i])-1);\n",
    "    M = np.insert(M, pos, check_bit[:,i], axis=1);\n",
    "print(\"forma final de M\\n\", M);"
   ]
  },
  {
   "cell_type": "code",
   "execution_count": 11,
   "metadata": {},
   "outputs": [
    {
     "name": "stdout",
     "output_type": "stream",
     "text": [
      "columnas de paridad\n",
      " [[0 0 1 1]\n",
      " [1 1 0 1]\n",
      " [0 1 0 1]\n",
      " [1 0 0 1]\n",
      " [1 1 1 0]\n",
      " [0 1 1 0]\n",
      " [1 0 1 0]\n",
      " [1 1 0 0]]\n",
      "[[1 0 0 0 1 0 0 0 1 0 0 0]\n",
      " [0 1 0 0 1 0 0 0 0 0 1 1]\n",
      " [0 0 1 0 1 0 0 0 0 0 1 0]\n",
      " [0 0 0 1 1 0 0 0 0 0 0 1]\n",
      " [0 0 0 0 0 1 0 0 1 0 1 1]\n",
      " [0 0 0 0 0 0 1 0 1 0 1 0]\n",
      " [0 0 0 0 0 0 0 1 1 0 0 1]\n",
      " [0 0 0 0 0 0 0 0 0 1 1 1]]\n"
     ]
    }
   ],
   "source": [
    "k = 8;\n",
    "n = 12;\n",
    "r = n-k;\n",
    "parity = np.ones(n-k).astype(int);\n",
    "parity[0] = 1;\n",
    "for x in range(1,len(parity)):\n",
    "    parity[x] = 2*parity[x-1];\n",
    "\n",
    "#Creamos check_bit, una especie de máscara que nos dirá para cada bit de paridad, que elementos de X debemos observar\n",
    "check_bit = np.full((r,n),0, int);\n",
    "for j in range(len(parity)):\n",
    "    for i in range(parity[j], parity[j]*2):\n",
    "        check_bit[j][i-1::2*parity[j]] = 1;\n",
    "#Ahora quitamos del check bit las columnas que se corresponden con valores de paridad (identidad)\n",
    "indexes = [];\n",
    "for x in range(len(parity)):\n",
    "    indexes = np.append(indexes, parity[x]-1);\n",
    "indexes = indexes.astype(int);\n",
    "\n",
    "#Eliminamos dichas columnas y volteamos la matriz para que quede con los bits menos significativos al final\n",
    "check_bit = np.delete(check_bit, indexes, axis=1);  \n",
    "check_bit = np.flip(check_bit).T;\n",
    "check_bit = np.flip(check_bit, axis = 1);\n",
    "#Las columnas de paridad quedan así\n",
    "print(\"columnas de paridad\\n\", check_bit);\n",
    "\n",
    "M = np.identity(k).astype(int);\n",
    "for i in range(len(parity)):\n",
    "    pos = len(M[0])-(parity[i]-1);\n",
    "    M = np.insert(M, pos, check_bit[:,i], axis=1);\n",
    "print(M);"
   ]
  },
  {
   "cell_type": "code",
   "execution_count": 10,
   "metadata": {},
   "outputs": [
    {
     "name": "stdout",
     "output_type": "stream",
     "text": [
      "[[1 1 1]\n",
      " [1 1 0]\n",
      " [1 0 1]\n",
      " [1 0 0]\n",
      " [0 1 1]\n",
      " [0 1 0]\n",
      " [0 0 1]]\n"
     ]
    }
   ],
   "source": [
    "import numpy as np\n",
    "n = 7;\n",
    "k =4;\n",
    "r = n - k;\n",
    "n_fil = n;\n",
    "parity = np.ones(r).astype(int);\n",
    "parity[0] = 1;\n",
    "for x in range(1,len(parity)):\n",
    "    parity[x] = 2*parity[x-1];\n",
    "\n",
    "#Creamos la matriz con las filas y columnas traspuestas para rellenarla por filas\n",
    "H = np.full((r, n_fil), 0, int);\n",
    "for i in range (r):\n",
    "    for j in range (parity[i]):   \n",
    "        H[i][j::parity[i]*2] = 1; \n",
    "H = np.flip(H, axis = 0);\n",
    "print(H.T);"
   ]
  },
  {
   "cell_type": "code",
   "execution_count": 27,
   "metadata": {},
   "outputs": [
    {
     "name": "stdout",
     "output_type": "stream",
     "text": [
      "[[1 1 1 1 1 0 0 0 0 0 0 0]\n",
      " [1 0 0 0 0 1 1 1 1 0 0 0]\n",
      " [0 1 1 0 0 1 1 0 0 1 1 0]\n",
      " [0 1 0 1 0 1 0 1 0 1 0 1]]\n",
      "[[1 1 0 0]\n",
      " [1 0 1 1]\n",
      " [1 0 1 0]\n",
      " [1 0 0 1]\n",
      " [1 0 0 0]\n",
      " [0 1 1 1]\n",
      " [0 1 1 0]\n",
      " [0 1 0 1]\n",
      " [0 1 0 0]\n",
      " [0 0 1 1]\n",
      " [0 0 1 0]\n",
      " [0 0 0 1]]\n"
     ]
    }
   ],
   "source": [
    "import numpy as np\n",
    "n = 12;\n",
    "k = 8;\n",
    "r = n - k;\n",
    "n_fil = n;\n",
    "parity = np.ones(r).astype(int);\n",
    "parity[0] = 1;\n",
    "for x in range(1,len(parity)):\n",
    "    parity[x] = 2*parity[x-1];\n",
    "\n",
    "#Creamos la matriz con las filas y columnas traspuestas para rellenarla por filas\n",
    "H = np.full((r, n_fil), 0, int);\n",
    "for i in range (r):\n",
    "    for j in range (parity[i]-1,parity[i]*2-1):  \n",
    "        H[i][j::parity[i]*2] = 1; \n",
    "H = np.flip(H);\n",
    "#La trasponemos para tener la matriz H\n",
    "H = H.T;\n",
    "print(H)\n"
   ]
  },
  {
   "cell_type": "code",
   "execution_count": null,
   "metadata": {},
   "outputs": [],
   "source": []
  }
 ],
 "metadata": {
  "kernelspec": {
   "display_name": "Python 3",
   "language": "python",
   "name": "python3"
  },
  "language_info": {
   "codemirror_mode": {
    "name": "ipython",
    "version": 3
   },
   "file_extension": ".py",
   "mimetype": "text/x-python",
   "name": "python",
   "nbconvert_exporter": "python",
   "pygments_lexer": "ipython3",
   "version": "3.8.5"
  }
 },
 "nbformat": 4,
 "nbformat_minor": 4
}
