{
 "cells": [
  {
   "cell_type": "markdown",
   "metadata": {},
   "source": [
    "# Criptografía y Computación\n",
    "## Práctica 1 \n",
    "\n",
    "<div align=\"right\"><b>Autor</b>: Jorge Gangoso Klöck\n",
    "<div align=\"right\"><b>Fecha</b>: 10/03/2022\n",
    "    "
   ]
  },
  {
   "cell_type": "markdown",
   "metadata": {},
   "source": [
    "### Ejercicio 1\n",
    "<b>Implementa el algoritmo extendido de Euclides para el cálculo del máximo común divisor: dados\n",
    "dos enteros a y b, encuentra u, v ∈ Z tales que au + bv es el máximo común divisor de a y b. </b>\n",
    "\n",
    "La función debe encontrar los coeficientes de bézout que son los últimos valores de u y v al realizar el algoritmo Extendido de Euclides. Los valores de u y v se deben inicializar de forma que $a*(u=1)+b*(v=0) = a$ y de forma análoga $a*(u=0)+b*(v=1) = b$."
   ]
  },
  {
   "cell_type": "code",
   "execution_count": 19,
   "metadata": {},
   "outputs": [],
   "source": [
    "# Función que calcula el MCD de dos números (a y b) y también devuelve los coeficientes de bézout en una misma tupla\n",
    "def MCD(a,b):\n",
    "    (u0,u1) = (1,0)\n",
    "    (v0,v1) = (0,1)\n",
    "    while(b > 0):\n",
    "        (c, r) = (a//b, a%b)\n",
    "        (u0, u1) = (u1, u0-c*u1)\n",
    "        (v0, v1) = (v1, v0-c*v1)\n",
    "        a = b\n",
    "        b = r\n",
    "    return [a, u0, v0]"
   ]
  },
  {
   "cell_type": "code",
   "execution_count": 3,
   "metadata": {},
   "outputs": [
    {
     "name": "stdout",
     "output_type": "stream",
     "text": [
      "El MCD es  3 Los coeficientes de bezout son:  3171032  y  -1261\n",
      "Por tanto: ( 3171032  *  21651 ) + ( -1261  *  54445689 ) =  3\n"
     ]
    }
   ],
   "source": [
    "# Ejemplo de ejecución\n",
    "a = 21651\n",
    "b = 54445689\n",
    "[mcd, bz1, bz2] = MCD(a,b)\n",
    "print('El MCD es ', mcd, 'Los coeficientes de bezout son: ', bz1, ' y ', bz2)\n",
    "print('Por tanto: (', bz1, ' * ', a, ') + (', bz2, ' * ', b, ') = ', bz1*a+bz2*b)"
   ]
  },
  {
   "cell_type": "markdown",
   "metadata": {},
   "source": [
    "### Ejercicio 2\n",
    "<b>Usando el ejercicio anterior, escribe una función que calcule $a^{-1} \\bmod b$ para cualesquiera a, b enteros que sean primos relativos.</b>\n",
    "\n",
    "Se asume una entrada de datos correctos en los que a y b son primos relativos. En caso de que no lo sea el algoritmo devolverá siempre 1 ya que el algoritmo Extendido de Euclides para en la primera iteración con cociente $b/a$ y resto $0$. En ese caso el inverso realmente no es 1 si no que no existe. Se podría añadir una comprobación sencilla si $b \\bmod a = 0$ entonces devolver que a no tiene inverso módulo b."
   ]
  },
  {
   "cell_type": "code",
   "execution_count": 4,
   "metadata": {},
   "outputs": [],
   "source": [
    "# Función que obtiene el inverso cogiendo el coeficiente de bézout correspondiente del algoritmo Extendido de Euclides\n",
    "def InversoModular(a, b):\n",
    "    [a, bz1, bz2] = MCD(a,b)\n",
    "    return bz1%b\n",
    "def InversoModularComprobante(a, b):\n",
    "    if b%a == 0:\n",
    "        return False\n",
    "    else:\n",
    "        [a, bz1, bz2] = MCD(a,b)\n",
    "        return bz1%b"
   ]
  },
  {
   "cell_type": "code",
   "execution_count": 5,
   "metadata": {},
   "outputs": [
    {
     "name": "stdout",
     "output_type": "stream",
     "text": [
      "7\n",
      "1\n",
      "False\n"
     ]
    }
   ],
   "source": [
    "# Ejemplo de ejecución\n",
    "    # 1 - Inverso Modular de números primos relativos\n",
    "print(InversoModularComprobante(7, 48))\n",
    "    # 2 - Inverso Modular de múltiplos sin comprobación (22245 = 1483 * 15)\n",
    "print(InversoModular(1483, 22245))\n",
    "    # 3 - Inverso Modular de múltiplos con comprobación (22245 = 1483 * 15)\n",
    "print(InversoModularComprobante(1483, 22245))"
   ]
  },
  {
   "cell_type": "markdown",
   "metadata": {},
   "source": [
    "### Ejercicio 3\n",
    "\n",
    "<b>Escribe una función que calcule $a^{b} \\bmod n$ para cualesquiera a, b y n enteros positivos. La implementación debería tener en cuenta la representación binaria de b.</b>\n",
    "\n",
    "Separamos el exponente b en su forma binaria como suma de potencias de 2. Cada bit activo en su interpretación binaria implica elevar $a^{2^{i}}$ pero puesto que esto es lo mismo que hacer $a^{2i}$ podemos sencillamente ir actualizando $a = a^2$ lo que nos da un valor de $a = a^i$ para la iteración i-ésima y actualizar la variable que va almacenando el valor total de la potencia si y sólo si $b_i = 1$ es decir, el bit que correspondería con dicha iteración está activo en la representación binaria de b."
   ]
  },
  {
   "cell_type": "code",
   "execution_count": 6,
   "metadata": {},
   "outputs": [],
   "source": [
    "# Función que calcula una potencia módulo n con un algoritmo de complejidad logarítmica\n",
    "def PotenciaModular(a, b, n):\n",
    "    p = 1\n",
    "    b = int(b)\n",
    "    while(b > 0):\n",
    "        if(b%2 == 1):\n",
    "            p = (p*a)%n\n",
    "        b = b>>1 #Es lo mismo que (b-b%2)/2\n",
    "        a = (a*a)%n\n",
    "    return p"
   ]
  },
  {
   "cell_type": "code",
   "execution_count": 7,
   "metadata": {},
   "outputs": [
    {
     "name": "stdout",
     "output_type": "stream",
     "text": [
      "51\n"
     ]
    }
   ],
   "source": [
    "# Ejemplo de ejecución\n",
    "print(PotenciaModular(382711723928839982739,2837193,78))"
   ]
  },
  {
   "cell_type": "markdown",
   "metadata": {},
   "source": [
    "### Ejercicio 4\n",
    "<b> Dado un entero p, escribe una función para determinar si p es (probablemente) primo usando el\n",
    "método de Miller-Rabin. </b>\n",
    "\n",
    "Para realizar el ejercicio de la forma más legible y encapsulada posible he realizado dos funciones, la primera inicializa los parámetros y llama K veces (K=10 para una probabilidad de error de $\\frac{1}{4^{10}}$) a la segunda función llamada listaMillerRabin que hace la comprobación de si el número es probablemente primo o no lo es utilizando la potenciación modular y la condición necesaria (aunque no suficiente) de que si un cuadrado es 1, su raíz debe ser 1 o -1, en caso contrario el número nunca será primo. Si ningún cuadrado es 1 también podemos afirmar que el número no es primo."
   ]
  },
  {
   "cell_type": "code",
   "execution_count": 8,
   "metadata": {},
   "outputs": [],
   "source": [
    "# Biblioteca: random -> para escoger un número aleatorio entre 2 y n-2 como base para la lista \n",
    "import random\n",
    "\n",
    "# Función que comprueba si dada la descomposición de un número como p-1=(2^u)*s devuelve si p es probablemente primo\n",
    "# Entrada: n(número del que se comprueba la primalidad), u(potencia de 2 de la descomposición), s(número impar).\n",
    "def listaMillerRabin (n, u, s):\n",
    "    a = random.randint(2,n-2)\n",
    "    previo = n-1\n",
    "    actual = PotenciaModular(a, s, n)\n",
    "    for i in range (0, u+1):\n",
    "        if actual == 1 and previo == n-1:\n",
    "            return True\n",
    "        if actual == 1 and previo != n-1:\n",
    "            return False\n",
    "        previo = actual\n",
    "        actual = PotenciaModular(actual, 2, n)\n",
    "    return False\n",
    "\n",
    "# Función general para Miller-Rabin. Inicializa parámetros y realiza la llamada al verdadero test de primalidad.\n",
    "def MillerRabin (n):\n",
    "    if n>0 and n<4:\n",
    "        return True\n",
    "    if n%2 == 0:\n",
    "        return False\n",
    "    else:\n",
    "        u = 0\n",
    "        s = n-1\n",
    "        #Calcular u\n",
    "        while s%2 == 0:\n",
    "            u = u+1\n",
    "            s = s/2\n",
    "        #Tenemos s\n",
    "        #Hacer 10 iteraciones a listaMillerRabin\n",
    "        for i in range (10):\n",
    "            primo = listaMillerRabin(n, u, s)\n",
    "            if primo == False:\n",
    "                return False\n",
    "        return True\n"
   ]
  },
  {
   "cell_type": "code",
   "execution_count": 9,
   "metadata": {},
   "outputs": [
    {
     "name": "stdout",
     "output_type": "stream",
     "text": [
      "True\n",
      "False\n"
     ]
    }
   ],
   "source": [
    "#Ejemplo de Ejecución\n",
    "print(MillerRabin(123456789101119)) #Es primo\n",
    "print(MillerRabin(8432487)) #No es primo"
   ]
  },
  {
   "cell_type": "markdown",
   "metadata": {},
   "source": [
    "### Ejercicio 5\n",
    "<b>Implementa el algoritmo paso enano-paso gigante para el cálculo de logaritmos discretos en $\\mathbb{Z}_{p}$</b>\n",
    "\n",
    "Consiste en encontrar un valor $x$ tal que $x = log_{a}(b) \\bmod n$. Por tanto como entradas de la función tendremos la base a, el número al que queremos calcularle el logaritmo, y la base n. Nótese que no siempre existirá el $log_{a}(b) \\bmod n$, pero siempre que sea calculable este algoritmo lo calcula.\n",
    "El algoritmo consiste en crear dos listas, una que crece rápidamente con la forma: $ a^{uc} \\bmod n$ y otra que crece más lentamente con la forma: $ ba^u \\bmod n $. Si se encuentra un elemento común en ambas listas quiere decir que existe una solución a nuestro problema que se puede escribir como $ x = cu-v : u \\in \\{1,...,c\\}, v \\in \\{0,...,c-1\\}$."
   ]
  },
  {
   "cell_type": "code",
   "execution_count": 10,
   "metadata": {},
   "outputs": [],
   "source": [
    "import math\n",
    "\n",
    "# Función para hacer el LogaritmoDiscreto tal que a^k = b (mod n)\n",
    "# Entrada: a(Base), b(Número del que queremos calcular el logaritmo), n(módulo)\n",
    "def LogaritmoDiscreto (a, b, n, info):\n",
    "    c = 1+math.isqrt(n-2)\n",
    "    u = 1\n",
    "    v = 0\n",
    "    big_steps = []\n",
    "    small_steps = []\n",
    "    for i in range (0,c):\n",
    "        big_steps.append(PotenciaModular(a, (u+i)*c, n))\n",
    "        small_steps.append((b*PotenciaModular(a, (v+i), n))%n)\n",
    "        \n",
    "    # Creamos diccionarios para recuperar rápidamente los índices\n",
    "    big_dict = dict((k,i) for i,k in enumerate(big_steps))   \n",
    "    small_dict = dict((k,i) for i,k in enumerate(small_steps))\n",
    "        \n",
    "    if len(set(big_dict).intersection(small_steps)) == 0:\n",
    "        return 'No existe'\n",
    "    \n",
    "    # Usamos los diccionarios para obtener los valores de u y v\n",
    "    intersection_b = set(big_dict).intersection(small_steps)\n",
    "    u = [ big_dict[x]+1 for x in intersection_b ]\n",
    "    v = [ small_dict[x] for x in intersection_b ]\n",
    "    \n",
    "    if info:\n",
    "        print('C: ',c,'V: ', v,'U: ', u)\n",
    "        print('Paso pequeño {0...c-1}: ', small_steps)\n",
    "        print('Paso gigante {1...c}: ', big_steps)\n",
    "\n",
    "    # Finalmente nos quedamos sólo con el primer valor de coincidencia\n",
    "    return c*(u[0]) - v[0]"
   ]
  },
  {
   "cell_type": "code",
   "execution_count": 11,
   "metadata": {},
   "outputs": [
    {
     "name": "stdout",
     "output_type": "stream",
     "text": [
      "C:  6 V:  [1, 4] U:  [4, 2]\n",
      "Paso pequeño {0...c-1}:  [14, 16, 5, 19, 4, 9]\n",
      "Paso gigante {1...c}:  [2, 4, 8, 16, 1, 2]\n",
      "log en base  10  de  14  modulo  31 :  23\n",
      "log en base  10  de  21  modulo  31 :  No existe\n"
     ]
    }
   ],
   "source": [
    "# Ejemplo de ejecución \n",
    "base = 10\n",
    "valor = 14\n",
    "modulo = 31\n",
    "resultado = LogaritmoDiscreto(base, valor, modulo, True)\n",
    "print('log en base ', base, ' de ', valor, ' modulo ', modulo, ': ', resultado)\n",
    "base = 10\n",
    "valor = 21\n",
    "modulo = 31\n",
    "resultado = LogaritmoDiscreto(base, valor, modulo, False)\n",
    "print('log en base ', base, ' de ', valor, ' modulo ', modulo, ': ', resultado)"
   ]
  },
  {
   "cell_type": "markdown",
   "metadata": {},
   "source": [
    "### Ejercicio 6\n",
    "<b>Sea $n = pq$, con $p$ y $q$ enteros primos positivos.</b>\n",
    "1. <b>Escribe una función que, dado un entero $a$ y un primo $p$ con $(\\frac{a}{p}) = 1$, devuelve $r$ tal que $r^2 ≡ a \\bmod p$</b>\n",
    "2. <b>Sea $a$ un entero que es residuo cuadrático módulo $p$ y $q$. Usa el teorema chino de los restos para calcular\n",
    "todas las raíces cuadradas de $a \\bmod n$ a partir de las raíces cuadradas de $a$ módulo $p$ y $q$.</b>\n",
    "\n",
    "En primer lugar implementamos el símbolo de Jacobi que dado un número a y un primo p tenemos que $(\\frac{a}{p}) = 1$ si y sólo si $a^{\\frac{p-1}{2}}  ≡ 1 \\bmod p$ y de forma análoga tenemos que $(\\frac{a}{p}) = -1$ si y sólo si $a^{\\frac{p-1}{2}}  ≡ -1 \\bmod p$. En cualquier otro caso devuelve $0$.\n",
    "\n",
    "A continuación implementamos el cálculo de raíces cuadradas módulo un primo. Para poder hallar este valor es necesario que $(\\frac{a}{p}) = 1$ por tanto se añade una comprobación inicial de que esto ocurre y una comprobación adicional de que p es primo. A continuación procedemos con el algoritmo, expresamos el número $p-1$ como potencia de 2 multiplicada por un número forzosamente impar $s$, inicializamos $r = a^{\\frac{s+1}{2}} \\bmod p$. También por eficiencia ya que va a ser un número que va a utilizarse en cada iteración almacenamos en una variable el valor de $a^{-1}$ ya que será constante a lo largo de toda la ejecución.\n",
    "\n",
    "Lo último que debemos preparar antes del bucle es encontrar un valor $m$ tal que $(\\frac{m}{p}) = -1$ y nos quedamos con su cuadrado al cual llamaremos $\\mu = m^{2}$\n",
    "\n",
    "Para terminar el bucle que comprueba si $(a^{-1}*r^2)^{2^{n-i}} = 1 \\lor -1$ En el caso que vale $1$ que incluye al caso base $(a^{-1}*r^2)^{2^{n-1}} = 1$ no tenemos que hacer nada más que elevar $\\mu^2$, tras eso como estamos haciendo el paso opuesto a elevar al cuadrado sólo podemos obtener $1$ y $-1$. En el caso $-1$ debemos rectificar el símbolo de la raíz haciendo $r = r*\\mu$ y una vez más actualizamos $\\mu^2$. Así hasta la última iteración en la que obtenemos la raíz.\n",
    "\n",
    "En ambos casos tanto con el cálculo de raíces cuadradas de primos como de compuestos podemos observar como dependiendo del valor aleatorio con el que se comienza el algoritmo podemos obtener una raíz o su opuesta, en el caso del segundo algoritmo es más notorio ya que casi en todas las diferentes ejecuciones cambia el orden en que se muestran las raíces."
   ]
  },
  {
   "cell_type": "code",
   "execution_count": 12,
   "metadata": {},
   "outputs": [],
   "source": [
    "# Función auxiliar que calcula el símbolo de Jacobi de (a,p)\n",
    "def Jacobi(a, p):\n",
    "    return PotenciaModular(a, (p-1)//2, p)\n",
    "\n",
    "# Función que cálcula la raíz cuadrada de a módulo un primo p tal que Jaocbi(a,p) = 1\n",
    "def RaizCuadradaModularPrimo(a, p):\n",
    "    if (MillerRabin(p) != True):\n",
    "        return 'P no es primo'\n",
    "    if (Jacobi(a,p) != 1):\n",
    "        return 'Jacobi(a,p)!=1'\n",
    "    u = 0\n",
    "    s = p-1\n",
    "    #Calcular u y s\n",
    "    while s%2 == 0:\n",
    "        u = u+1\n",
    "        s = s//2\n",
    "        \n",
    "    if u == 1:\n",
    "        return PotenciaModular(a, (p + 1)//4, p)\n",
    "    \n",
    "    r = PotenciaModular(a, (s+1)//2, p)\n",
    "    a_inv = InversoModular(a, p)\n",
    "    \n",
    "    ### Calcular un m tal que Jacobi(m, p) = -1. Con P=1/2\n",
    "    for i in range (p-2):\n",
    "        m = random.randint(2,p-1)\n",
    "        if (Jacobi(m,p)==p-1):\n",
    "            break\n",
    "    if(Jacobi(m,p) != p-1):\n",
    "        return 'No se ha encontrado m con Jacobi(m,p)=-1'\n",
    "    \n",
    "    nu = PotenciaModular(m, s, p)\n",
    "    \n",
    "    for i in range (u-2, -1, -1):\n",
    "        tmp1 = PotenciaModular(r,2,p)\n",
    "        temp = PotenciaModular(tmp1*a_inv, pow(2,i), p)\n",
    "        if (temp == 1):\n",
    "            nu = PotenciaModular(nu, 2, p)\n",
    "        elif (temp == p-1):\n",
    "            r = (r*nu)%p\n",
    "            nu = PotenciaModular(nu, 2, p)\n",
    "    return r\n",
    "    "
   ]
  },
  {
   "cell_type": "code",
   "execution_count": 13,
   "metadata": {},
   "outputs": [
    {
     "name": "stdout",
     "output_type": "stream",
     "text": [
      "La raíz cuadrada de 24 módulo 71 es:  38\n",
      "La raíz cuadrada de 24 módulo 70 es:  P no es primo\n",
      "La raíz cuadrada de 23 módulo 71 es:  Jacobi(a,p)!=1\n",
      "La raíz cuadrada de 4 módulo 5 es:  2\n"
     ]
    }
   ],
   "source": [
    "# Ejemplo de ejecución \n",
    "print('La raíz cuadrada de 24 módulo 71 es: ', RaizCuadradaModularPrimo(24, 71))\n",
    "print('La raíz cuadrada de 24 módulo 70 es: ', RaizCuadradaModularPrimo(24, 70))\n",
    "print('La raíz cuadrada de 23 módulo 71 es: ', RaizCuadradaModularPrimo(23, 71))\n",
    "print('La raíz cuadrada de 4 módulo 5 es: ', RaizCuadradaModularPrimo(4, 5))\n"
   ]
  },
  {
   "cell_type": "code",
   "execution_count": 14,
   "metadata": {},
   "outputs": [],
   "source": [
    "def RaizCuadradaModular(a, p, q):\n",
    "    rp = RaizCuadradaModularPrimo(a, p)\n",
    "    rq = RaizCuadradaModularPrimo(a, q)\n",
    "    solucion = []\n",
    "    x = (rp + (p*InversoModular(p, q)*(rq-rp))%(p*q))%(p*q)\n",
    "    solucion.append(x)\n",
    "    solucion.append((p*q)-x)\n",
    "    rp = (p*q)-rp\n",
    "    x = (rp + (p*InversoModular(p, q)*(rq-rp))%(p*q))%(p*q)\n",
    "    solucion.append(x)\n",
    "    solucion.append((p*q)-x)\n",
    "    return solucion"
   ]
  },
  {
   "cell_type": "code",
   "execution_count": 15,
   "metadata": {},
   "outputs": [
    {
     "name": "stdout",
     "output_type": "stream",
     "text": [
      "Las raices cuadradas de 4 módulo 15 son:  [7, 8, 2, 13]\n"
     ]
    }
   ],
   "source": [
    "# Ejemplo de ejecución\n",
    "print('Las raices cuadradas de 4 módulo 15 son: ', RaizCuadradaModular(4, 3, 5))"
   ]
  },
  {
   "cell_type": "markdown",
   "metadata": {},
   "source": [
    "### Ejercicio 7\n",
    "1. <b>Implementa el Método de Fermat para factorización de enteros.</b>\n",
    "2. <b>Implementa el algoritmo de factorización ρ de Pollard.</b>\n",
    "\n",
    "#### 7.1\n",
    "Para el ejercicio 1 he implementado una función auxiliar y una función que extiende ligeramente la funcionalidad del algoritmo básico, aunque no lo agiliza.\n",
    "\n",
    "    Función Cuadrado\n",
    "La función auxiliar cuadrado la he creado para comprobar si un número es un cuadrado perfecto o no. Simplemente toma la raíz entera por abajo de un número y comprueba si su cuadrado es el número original. En caso afirmativo tenemos un cuadrado, en caso contario no.\n",
    "    \n",
    "    Función FactorizacionFermat\n",
    "Es el algoritmo básico para encontrar factores de Fermat. Se trata de un algoritmo sumamente lento en los peores casos que toma un número inicial e itera intentando encontrar un número que sea cuadrado y que además se corresponda con el valor de $a*a-n$. Cuando lo encuentra la raíz de ese cuadrado es un factor propio del número inicial. Es muy importante notar que este algoritmo encuentra factores que no tienen por qué ser primos necesariamente.\n",
    "\n",
    "    Función FactorizacionFermatCompleta\n",
    "Este algoritmo no es más que un burdo esquema de cómo se podría utilizar el algoritmo básico de factorización para factorizar un número en todos sus factores, sin embargo como se ha comentado anteriormente, ya que el algoritmo básico de Fermat no garantiza encontrar factores primos, la factorización no tiene tampoco por qué estar compuesta únicamente por factores primos. Por supuesto podría modificarse de manera relativamente sencilla de forma que cada vez que se encuentre un factor, se compruebe si es primo y en caso contrario se llame recursivamente a la función de factorización para así obtener la factorización completa como producto de primos, pero ya que no es el objetivo del ejercicio y no tiene mayor complicación se deja explicado sólamente.\n",
    "\n",
    "#### 7.2\n",
    "Para el ejercicio 2, implementamos el algoritmo Rho de Pollard para factorización de enteros, un algoritmo mucho más rápido que el de Fermat y que está basado en la idea de la Liebre y la Tortuga utilizando una función (Normalmente de la forma: $x^2+c \\bmod n, c \\neq 0,-2$) que se aplica una vez sobre el valor Tortuga y se aplica dos veces sobre el valor Liebre. Tras haber aplicado la función se comprueba el $MCD(|x-y|, n)$ y este puede tomar tres valores:\n",
    "1. $1$ en cuyo caso se continua con el algoritmo\n",
    "2. $n$ en cuyo caso se detiene el algoritmo y se devuelve un fallo que puede implicar que n sea primo pero puede también ser un falso error, no implica necesariamente la ausencia de factores\n",
    "3. Un valor distinto de $1 \\lor n$ en cuyo caso ya hemos encontrado un factor que es precisamente el MCD"
   ]
  },
  {
   "cell_type": "code",
   "execution_count": 16,
   "metadata": {},
   "outputs": [],
   "source": [
    "import numpy as np\n",
    "def Cuadrado(n):\n",
    "    r_n = math.isqrt(n)\n",
    "    if (r_n*r_n == n):\n",
    "        return True\n",
    "    else:\n",
    "        return False\n",
    "\n",
    "def FactorizacionFermat(n):\n",
    "    a = 1+math.isqrt(n-1)\n",
    "    b_cuadrado = (a*a)-n\n",
    "    while (Cuadrado(b_cuadrado) == False):\n",
    "        a = a+1\n",
    "        b_cuadrado = a*a-n\n",
    "    factor = a - math.isqrt(b_cuadrado)\n",
    "    return factor\n",
    "\n",
    "def FactorizacionFermatCompleta(n):\n",
    "    m = []\n",
    "    while (MillerRabin(n) == False):\n",
    "        factor = FactorizacionFermat(n)\n",
    "        n = n//factor\n",
    "        m.append(factor)\n",
    "    m.append(n)\n",
    "    return m\n",
    "        \n",
    "\n",
    "def f(x,n):\n",
    "    return (x**2 + 3)%n\n",
    "\n",
    "def FactorizacionPollard(n):\n",
    "    x = 2\n",
    "    y = 2\n",
    "    d = 1\n",
    "    while (d == 1):\n",
    "        x = f(x,n)\n",
    "        y = f(f(y,n),n)\n",
    "        d = MCD(np.abs(x-y),n)[0]\n",
    "    if d == n:\n",
    "        return False\n",
    "    else:\n",
    "        return d\n",
    "    "
   ]
  },
  {
   "cell_type": "code",
   "execution_count": 17,
   "metadata": {},
   "outputs": [
    {
     "name": "stdout",
     "output_type": "stream",
     "text": [
      "Factorizacion Fermat:  5\n",
      "Factorizacion Rho:  5\n"
     ]
    }
   ],
   "source": [
    "# Ejemplo de ejecución\n",
    "print('Factorizacion Fermat: ', FactorizacionFermat(35456515))\n",
    "#print('Factorizacion Fermat Multifactor: ',FactorizacionFermatCompleta(35456515))\n",
    "print('Factorizacion Rho: ', FactorizacionPollard(35456515))"
   ]
  },
  {
   "cell_type": "markdown",
   "metadata": {},
   "source": [
    "### Ejercicio 8\n",
    "<b>Compara los tiempos de ejecución de tus implementaciones con las de tus compañeros y con las\n",
    "primitivas de algunos paquetes de cálculo simbólico como (GAP, MATHEMATICA, maxima, . . . ).</b>\n",
    "\n",
    "Para este ejercicio usaré la tabla de cálculo que hemos creado en el grupo de la asignatura para comparar mis tiempos con los de mis compañeros de clase."
   ]
  },
  {
   "cell_type": "code",
   "execution_count": 18,
   "metadata": {},
   "outputs": [
    {
     "ename": "KeyboardInterrupt",
     "evalue": "",
     "output_type": "error",
     "traceback": [
      "\u001b[1;31m---------------------------------------------------------------------------\u001b[0m",
      "\u001b[1;31mKeyboardInterrupt\u001b[0m                         Traceback (most recent call last)",
      "\u001b[1;32m<ipython-input-18-5f1182e00362>\u001b[0m in \u001b[0;36m<module>\u001b[1;34m\u001b[0m\n\u001b[0;32m     39\u001b[0m \u001b[1;33m\u001b[0m\u001b[0m\n\u001b[0;32m     40\u001b[0m     \u001b[0mt\u001b[0m \u001b[1;33m=\u001b[0m \u001b[0mtime\u001b[0m\u001b[1;33m.\u001b[0m\u001b[0mtime\u001b[0m\u001b[1;33m(\u001b[0m\u001b[1;33m)\u001b[0m\u001b[1;33m\u001b[0m\u001b[1;33m\u001b[0m\u001b[0m\n\u001b[1;32m---> 41\u001b[1;33m     \u001b[0mFactorizacionPollard\u001b[0m\u001b[1;33m(\u001b[0m\u001b[0mn\u001b[0m\u001b[1;33m)\u001b[0m\u001b[1;33m\u001b[0m\u001b[1;33m\u001b[0m\u001b[0m\n\u001b[0m\u001b[0;32m     42\u001b[0m     \u001b[0mtiempos\u001b[0m\u001b[1;33m[\u001b[0m\u001b[1;34m'Pollard'\u001b[0m\u001b[1;33m]\u001b[0m \u001b[1;33m+=\u001b[0m \u001b[0mtime\u001b[0m\u001b[1;33m.\u001b[0m\u001b[0mtime\u001b[0m\u001b[1;33m(\u001b[0m\u001b[1;33m)\u001b[0m \u001b[1;33m-\u001b[0m \u001b[0mt\u001b[0m\u001b[1;33m\u001b[0m\u001b[1;33m\u001b[0m\u001b[0m\n\u001b[0;32m     43\u001b[0m \u001b[1;33m\u001b[0m\u001b[0m\n",
      "\u001b[1;32m<ipython-input-16-0b300c00dda2>\u001b[0m in \u001b[0;36mFactorizacionPollard\u001b[1;34m(n)\u001b[0m\n\u001b[0;32m     36\u001b[0m         \u001b[0mx\u001b[0m \u001b[1;33m=\u001b[0m \u001b[0mf\u001b[0m\u001b[1;33m(\u001b[0m\u001b[0mx\u001b[0m\u001b[1;33m,\u001b[0m\u001b[0mn\u001b[0m\u001b[1;33m)\u001b[0m\u001b[1;33m\u001b[0m\u001b[1;33m\u001b[0m\u001b[0m\n\u001b[0;32m     37\u001b[0m         \u001b[0my\u001b[0m \u001b[1;33m=\u001b[0m \u001b[0mf\u001b[0m\u001b[1;33m(\u001b[0m\u001b[0mf\u001b[0m\u001b[1;33m(\u001b[0m\u001b[0my\u001b[0m\u001b[1;33m,\u001b[0m\u001b[0mn\u001b[0m\u001b[1;33m)\u001b[0m\u001b[1;33m,\u001b[0m\u001b[0mn\u001b[0m\u001b[1;33m)\u001b[0m\u001b[1;33m\u001b[0m\u001b[1;33m\u001b[0m\u001b[0m\n\u001b[1;32m---> 38\u001b[1;33m         \u001b[0md\u001b[0m \u001b[1;33m=\u001b[0m \u001b[0mMCD\u001b[0m\u001b[1;33m(\u001b[0m\u001b[0mnp\u001b[0m\u001b[1;33m.\u001b[0m\u001b[0mabs\u001b[0m\u001b[1;33m(\u001b[0m\u001b[0mx\u001b[0m\u001b[1;33m-\u001b[0m\u001b[0my\u001b[0m\u001b[1;33m)\u001b[0m\u001b[1;33m,\u001b[0m\u001b[0mn\u001b[0m\u001b[1;33m)\u001b[0m\u001b[1;33m[\u001b[0m\u001b[1;36m0\u001b[0m\u001b[1;33m]\u001b[0m\u001b[1;33m\u001b[0m\u001b[1;33m\u001b[0m\u001b[0m\n\u001b[0m\u001b[0;32m     39\u001b[0m     \u001b[1;32mif\u001b[0m \u001b[0md\u001b[0m \u001b[1;33m==\u001b[0m \u001b[0mn\u001b[0m\u001b[1;33m:\u001b[0m\u001b[1;33m\u001b[0m\u001b[1;33m\u001b[0m\u001b[0m\n\u001b[0;32m     40\u001b[0m         \u001b[1;32mreturn\u001b[0m \u001b[1;32mFalse\u001b[0m\u001b[1;33m\u001b[0m\u001b[1;33m\u001b[0m\u001b[0m\n",
      "\u001b[1;32m<ipython-input-2-a063a24f9cdd>\u001b[0m in \u001b[0;36mMCD\u001b[1;34m(a, b)\u001b[0m\n\u001b[0;32m      4\u001b[0m     \u001b[1;33m(\u001b[0m\u001b[0mv0\u001b[0m\u001b[1;33m,\u001b[0m\u001b[0mv1\u001b[0m\u001b[1;33m)\u001b[0m \u001b[1;33m=\u001b[0m \u001b[1;33m(\u001b[0m\u001b[1;36m0\u001b[0m\u001b[1;33m,\u001b[0m\u001b[1;36m1\u001b[0m\u001b[1;33m)\u001b[0m\u001b[1;33m\u001b[0m\u001b[1;33m\u001b[0m\u001b[0m\n\u001b[0;32m      5\u001b[0m     \u001b[1;32mwhile\u001b[0m\u001b[1;33m(\u001b[0m\u001b[0mb\u001b[0m \u001b[1;33m>\u001b[0m \u001b[1;36m0\u001b[0m\u001b[1;33m)\u001b[0m\u001b[1;33m:\u001b[0m\u001b[1;33m\u001b[0m\u001b[1;33m\u001b[0m\u001b[0m\n\u001b[1;32m----> 6\u001b[1;33m         \u001b[1;33m(\u001b[0m\u001b[0mc\u001b[0m\u001b[1;33m,\u001b[0m \u001b[0mr\u001b[0m\u001b[1;33m)\u001b[0m \u001b[1;33m=\u001b[0m \u001b[1;33m(\u001b[0m\u001b[0ma\u001b[0m\u001b[1;33m//\u001b[0m\u001b[0mb\u001b[0m\u001b[1;33m,\u001b[0m \u001b[0ma\u001b[0m\u001b[1;33m%\u001b[0m\u001b[0mb\u001b[0m\u001b[1;33m)\u001b[0m\u001b[1;33m\u001b[0m\u001b[1;33m\u001b[0m\u001b[0m\n\u001b[0m\u001b[0;32m      7\u001b[0m         \u001b[1;33m(\u001b[0m\u001b[0mu0\u001b[0m\u001b[1;33m,\u001b[0m \u001b[0mu1\u001b[0m\u001b[1;33m)\u001b[0m \u001b[1;33m=\u001b[0m \u001b[1;33m(\u001b[0m\u001b[0mu1\u001b[0m\u001b[1;33m,\u001b[0m \u001b[0mu0\u001b[0m\u001b[1;33m-\u001b[0m\u001b[0mc\u001b[0m\u001b[1;33m*\u001b[0m\u001b[0mu1\u001b[0m\u001b[1;33m)\u001b[0m\u001b[1;33m\u001b[0m\u001b[1;33m\u001b[0m\u001b[0m\n\u001b[0;32m      8\u001b[0m         \u001b[1;33m(\u001b[0m\u001b[0mv0\u001b[0m\u001b[1;33m,\u001b[0m \u001b[0mv1\u001b[0m\u001b[1;33m)\u001b[0m \u001b[1;33m=\u001b[0m \u001b[1;33m(\u001b[0m\u001b[0mv1\u001b[0m\u001b[1;33m,\u001b[0m \u001b[0mv0\u001b[0m\u001b[1;33m-\u001b[0m\u001b[0mc\u001b[0m\u001b[1;33m*\u001b[0m\u001b[0mv1\u001b[0m\u001b[1;33m)\u001b[0m\u001b[1;33m\u001b[0m\u001b[1;33m\u001b[0m\u001b[0m\n",
      "\u001b[1;31mKeyboardInterrupt\u001b[0m: "
     ]
    }
   ],
   "source": [
    "import time, collections\n",
    " \n",
    "tiempos = collections.defaultdict(int)\n",
    "EJECUCIONES = 1000\n",
    " \n",
    "EXTRA = [46381, 768479]\n",
    "for _ in range(EJECUCIONES):\n",
    "    t = time.time()\n",
    "    MCD(EXTRA[0], EXTRA[1])\n",
    "    tiempos['gcd'] += time.time() - t\n",
    "\n",
    "    t = time.time()\n",
    "    InversoModular(EXTRA[0], EXTRA[1])\n",
    "    tiempos['modinv'] += time.time() - t\n",
    "\n",
    "    t = time.time()\n",
    "    PotenciaModular(EXTRA[0], EXTRA[0], EXTRA[1])\n",
    "    tiempos['modpow'] += time.time() - t\n",
    "\n",
    "    t = time.time()\n",
    "    MillerRabin(EXTRA[0])\n",
    "    tiempos['Miller-Rabin'] += time.time() - t\n",
    "\n",
    "    aux = PotenciaModular(51, 79, EXTRA[0])\n",
    "    t = time.time()\n",
    "    LogaritmoDiscreto(51, aux, EXTRA[0], False)\n",
    "    tiempos['enano-gigante'] += time.time() - t\n",
    "\n",
    "    aux = PotenciaModular(EXTRA[0], 2, EXTRA[1])\n",
    "    t = time.time()\n",
    "    RaizCuadradaModularPrimo(aux, EXTRA[1])\n",
    "    tiempos['Tonelli-Shanks'] += time.time() - t\n",
    "\n",
    "    n = EXTRA[0] * EXTRA[1]\n",
    "    aux = PotenciaModular(57, 2, n)\n",
    "    t = time.time()\n",
    "    RaizCuadradaModular(aux, EXTRA[0], EXTRA[1])\n",
    "    tiempos['CRT'] += time.time() - t\n",
    "\n",
    "    t = time.time()\n",
    "    FactorizacionPollard(n)\n",
    "    tiempos['Pollard'] += time.time() - t\n",
    "\n",
    "for i in tiempos: \n",
    "    tiempos[i] /= EJECUCIONES\n",
    " # Fermat va mucho más lento, así que lo hago con menos ejecuciones\n",
    "for _ in range(25):\n",
    "    t = time.time()\n",
    "    FactorizacionFermat(n)\n",
    "    tiempos['Fermat'] += time.time() - t\n",
    "tiempos['Fermat'] /= 25\n",
    " \n",
    "for i in tiempos:\n",
    "    print(i+':', tiempos[i])"
   ]
  },
  {
   "cell_type": "code",
   "execution_count": 22,
   "metadata": {},
   "outputs": [
    {
     "name": "stdout",
     "output_type": "stream",
     "text": [
      "[1, -2, 1]\n",
      "[1, 41, -10]\n",
      "[1, 17, -2]\n"
     ]
    }
   ],
   "source": [
    "print(MCD(15,31))\n",
    "print(MCD(31, 127))\n",
    "print(MCD(15,127))"
   ]
  },
  {
   "cell_type": "code",
   "execution_count": null,
   "metadata": {},
   "outputs": [],
   "source": []
  }
 ],
 "metadata": {
  "kernelspec": {
   "display_name": "Python 3",
   "language": "python",
   "name": "python3"
  },
  "language_info": {
   "codemirror_mode": {
    "name": "ipython",
    "version": 3
   },
   "file_extension": ".py",
   "mimetype": "text/x-python",
   "name": "python",
   "nbconvert_exporter": "python",
   "pygments_lexer": "ipython3",
   "version": "3.8.5"
  }
 },
 "nbformat": 4,
 "nbformat_minor": 4
}
